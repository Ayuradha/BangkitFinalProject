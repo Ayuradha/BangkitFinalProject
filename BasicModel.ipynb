{
  "nbformat": 4,
  "nbformat_minor": 0,
  "metadata": {
    "colab": {
      "name": "BasicModel.ipynb",
      "provenance": [],
      "collapsed_sections": [],
      "machine_shape": "hm"
    },
    "kernelspec": {
      "name": "python3",
      "display_name": "Python 3"
    },
    "accelerator": "GPU"
  },
  "cells": [
    {
      "cell_type": "code",
      "metadata": {
        "id": "dShZMwfFFSFh",
        "colab_type": "code",
        "colab": {}
      },
      "source": [
        "!pip install -q kaggle"
      ],
      "execution_count": 1,
      "outputs": []
    },
    {
      "cell_type": "code",
      "metadata": {
        "id": "ssf033yFFS3R",
        "colab_type": "code",
        "colab": {}
      },
      "source": [
        "!mkdir -p ~/.kaggle"
      ],
      "execution_count": 2,
      "outputs": []
    },
    {
      "cell_type": "code",
      "metadata": {
        "id": "tZ6GDkQuK33V",
        "colab_type": "code",
        "colab": {}
      },
      "source": [
        "from google.colab import files\n",
        "files.upload()"
      ],
      "execution_count": null,
      "outputs": []
    },
    {
      "cell_type": "code",
      "metadata": {
        "id": "YOckP_sYQcda",
        "colab_type": "code",
        "colab": {}
      },
      "source": [
        "!cp kaggle.json ~/.kaggle/"
      ],
      "execution_count": 5,
      "outputs": []
    },
    {
      "cell_type": "code",
      "metadata": {
        "id": "_F9FfyFSQl_5",
        "colab_type": "code",
        "colab": {}
      },
      "source": [
        "\n",
        "!chmod 600 ~/.kaggle/kaggle.json"
      ],
      "execution_count": 9,
      "outputs": []
    },
    {
      "cell_type": "markdown",
      "metadata": {
        "id": "bnnjsTjvCJMB",
        "colab_type": "text"
      },
      "source": [
        "Import The Dataset From Kaggle"
      ]
    },
    {
      "cell_type": "code",
      "metadata": {
        "id": "xalsFDNyQp66",
        "colab_type": "code",
        "colab": {
          "base_uri": "https://localhost:8080/",
          "height": 90
        },
        "outputId": "70b0fd71-acea-44da-a988-b42463f58027"
      },
      "source": [
        "!kaggle datasets download -d kmader/skin-cancer-mnist-ham10000"
      ],
      "execution_count": 6,
      "outputs": [
        {
          "output_type": "stream",
          "text": [
            "Warning: Your Kaggle API key is readable by other users on this system! To fix this, you can run 'chmod 600 /root/.kaggle/kaggle.json'\n",
            "Downloading skin-cancer-mnist-ham10000.zip to /content\n",
            "100% 5.18G/5.20G [01:45<00:00, 93.5MB/s]\n",
            "100% 5.20G/5.20G [01:45<00:00, 52.8MB/s]\n"
          ],
          "name": "stdout"
        }
      ]
    },
    {
      "cell_type": "code",
      "metadata": {
        "id": "XryjXIYhQ_gM",
        "colab_type": "code",
        "colab": {
          "base_uri": "https://localhost:8080/",
          "height": 35
        },
        "outputId": "b4a8f3ea-cb06-4417-af4f-8ce720153210"
      },
      "source": [
        "!ls"
      ],
      "execution_count": 7,
      "outputs": [
        {
          "output_type": "stream",
          "text": [
            "kaggle.json  sample_data  skin-cancer-mnist-ham10000.zip\n"
          ],
          "name": "stdout"
        }
      ]
    },
    {
      "cell_type": "markdown",
      "metadata": {
        "id": "rZP_di6FCOsm",
        "colab_type": "text"
      },
      "source": [
        "Unzip The Dataset"
      ]
    },
    {
      "cell_type": "code",
      "metadata": {
        "id": "DTcamtSiVmGn",
        "colab_type": "code",
        "colab": {}
      },
      "source": [
        "!unzip skin-cancer-mnist-ham10000.zip"
      ],
      "execution_count": null,
      "outputs": []
    },
    {
      "cell_type": "code",
      "metadata": {
        "id": "beJ_3jq4JkDD",
        "colab_type": "code",
        "colab": {}
      },
      "source": [
        "import pandas as pd\n",
        "import numpy as np\n",
        "#import keras\n",
        "#from keras import backend as K\n",
        "\n",
        "import tensorflow as tf\n",
        "\n",
        "from tensorflow.keras.layers import Dense, Dropout\n",
        "from tensorflow.keras.optimizers import Adam\n",
        "from tensorflow.keras.metrics import categorical_crossentropy\n",
        "from tensorflow.keras.preprocessing.image import ImageDataGenerator\n",
        "from tensorflow.keras.models import Model\n",
        "from tensorflow.keras.callbacks import EarlyStopping,ReduceLROnPlateau\n",
        "from tensorflow.keras.layers import Flatten,Dense,Dropout,BatchNormalization,Conv2D,MaxPooling2D\n",
        "from tensorflow.keras.utils import to_categorical,normalize\n",
        "from tensorflow.keras.models import Sequential\n",
        "from tensorflow.keras.metrics import Recall\n",
        "from keras import regularizers\n",
        "from glob import glob\n",
        "from sklearn.metrics import confusion_matrix\n",
        "from sklearn.model_selection import train_test_split\n",
        "import itertools\n",
        "import shutil\n",
        "import matplotlib.pyplot as plt\n",
        "%matplotlib inline\n"
      ],
      "execution_count": null,
      "outputs": []
    },
    {
      "cell_type": "code",
      "metadata": {
        "id": "kbg5pOhxOKbY",
        "colab_type": "code",
        "colab": {}
      },
      "source": [
        "import os\n",
        "imageid_path_dict = {os.path.splitext(os.path.basename(x))[0]: x\n",
        "                     for x in glob(os.path.join( '*', '*.jpg'))}\n",
        "\n",
        "lesion_type_dict = {\n",
        "    'nv': 'Melanocytic nevi',\n",
        "    'mel': 'Melanoma',\n",
        "    'bkl': 'Benign keratosis-like lesions ',\n",
        "    'bcc': 'Basal cell carcinoma',\n",
        "    'akiec': 'Actinic keratoses',\n",
        "    'vasc': 'Vascular lesions',\n",
        "    'df': 'Dermatofibroma'\n",
        "}"
      ],
      "execution_count": 11,
      "outputs": []
    },
    {
      "cell_type": "markdown",
      "metadata": {
        "id": "SeN5Fug-CS8L",
        "colab_type": "text"
      },
      "source": [
        "Load The Dataset"
      ]
    },
    {
      "cell_type": "code",
      "metadata": {
        "id": "E_lXA7J8U2yi",
        "colab_type": "code",
        "colab": {
          "base_uri": "https://localhost:8080/",
          "height": 383
        },
        "outputId": "bea3beab-9f7e-47a2-9896-7d992a65feff"
      },
      "source": [
        "df = pd.read_csv(os.path.join('HAM10000_metadata.csv'))\n",
        "df['path'] = df['image_id'].map(imageid_path_dict.get)\n",
        "df['cell_type'] = df['dx'].map(lesion_type_dict.get) \n",
        "df['cell_type_idx'] = pd.Categorical(df['cell_type']).codes\n",
        "df.sample(10)"
      ],
      "execution_count": 12,
      "outputs": [
        {
          "output_type": "execute_result",
          "data": {
            "text/html": [
              "<div>\n",
              "<style scoped>\n",
              "    .dataframe tbody tr th:only-of-type {\n",
              "        vertical-align: middle;\n",
              "    }\n",
              "\n",
              "    .dataframe tbody tr th {\n",
              "        vertical-align: top;\n",
              "    }\n",
              "\n",
              "    .dataframe thead th {\n",
              "        text-align: right;\n",
              "    }\n",
              "</style>\n",
              "<table border=\"1\" class=\"dataframe\">\n",
              "  <thead>\n",
              "    <tr style=\"text-align: right;\">\n",
              "      <th></th>\n",
              "      <th>lesion_id</th>\n",
              "      <th>image_id</th>\n",
              "      <th>dx</th>\n",
              "      <th>dx_type</th>\n",
              "      <th>age</th>\n",
              "      <th>sex</th>\n",
              "      <th>localization</th>\n",
              "      <th>path</th>\n",
              "      <th>cell_type</th>\n",
              "      <th>cell_type_idx</th>\n",
              "    </tr>\n",
              "  </thead>\n",
              "  <tbody>\n",
              "    <tr>\n",
              "      <th>296</th>\n",
              "      <td>HAM_0004566</td>\n",
              "      <td>ISIC_0029394</td>\n",
              "      <td>bkl</td>\n",
              "      <td>histo</td>\n",
              "      <td>55.0</td>\n",
              "      <td>female</td>\n",
              "      <td>lower extremity</td>\n",
              "      <td>HAM10000_images_part_2/ISIC_0029394.jpg</td>\n",
              "      <td>Benign keratosis-like lesions</td>\n",
              "      <td>2</td>\n",
              "    </tr>\n",
              "    <tr>\n",
              "      <th>6797</th>\n",
              "      <td>HAM_0006197</td>\n",
              "      <td>ISIC_0028332</td>\n",
              "      <td>nv</td>\n",
              "      <td>histo</td>\n",
              "      <td>40.0</td>\n",
              "      <td>male</td>\n",
              "      <td>back</td>\n",
              "      <td>HAM10000_images_part_1/ISIC_0028332.jpg</td>\n",
              "      <td>Melanocytic nevi</td>\n",
              "      <td>4</td>\n",
              "    </tr>\n",
              "    <tr>\n",
              "      <th>7125</th>\n",
              "      <td>HAM_0002494</td>\n",
              "      <td>ISIC_0033686</td>\n",
              "      <td>nv</td>\n",
              "      <td>histo</td>\n",
              "      <td>65.0</td>\n",
              "      <td>female</td>\n",
              "      <td>abdomen</td>\n",
              "      <td>HAM10000_images_part_2/ISIC_0033686.jpg</td>\n",
              "      <td>Melanocytic nevi</td>\n",
              "      <td>4</td>\n",
              "    </tr>\n",
              "    <tr>\n",
              "      <th>6283</th>\n",
              "      <td>HAM_0006562</td>\n",
              "      <td>ISIC_0031084</td>\n",
              "      <td>nv</td>\n",
              "      <td>follow_up</td>\n",
              "      <td>40.0</td>\n",
              "      <td>male</td>\n",
              "      <td>trunk</td>\n",
              "      <td>HAM10000_images_part_2/ISIC_0031084.jpg</td>\n",
              "      <td>Melanocytic nevi</td>\n",
              "      <td>4</td>\n",
              "    </tr>\n",
              "    <tr>\n",
              "      <th>5358</th>\n",
              "      <td>HAM_0005635</td>\n",
              "      <td>ISIC_0024878</td>\n",
              "      <td>nv</td>\n",
              "      <td>follow_up</td>\n",
              "      <td>80.0</td>\n",
              "      <td>male</td>\n",
              "      <td>trunk</td>\n",
              "      <td>HAM10000_images_part_1/ISIC_0024878.jpg</td>\n",
              "      <td>Melanocytic nevi</td>\n",
              "      <td>4</td>\n",
              "    </tr>\n",
              "    <tr>\n",
              "      <th>2148</th>\n",
              "      <td>HAM_0002906</td>\n",
              "      <td>ISIC_0027517</td>\n",
              "      <td>mel</td>\n",
              "      <td>histo</td>\n",
              "      <td>70.0</td>\n",
              "      <td>male</td>\n",
              "      <td>ear</td>\n",
              "      <td>HAM10000_images_part_1/ISIC_0027517.jpg</td>\n",
              "      <td>Melanoma</td>\n",
              "      <td>5</td>\n",
              "    </tr>\n",
              "    <tr>\n",
              "      <th>7672</th>\n",
              "      <td>HAM_0000676</td>\n",
              "      <td>ISIC_0033894</td>\n",
              "      <td>nv</td>\n",
              "      <td>histo</td>\n",
              "      <td>40.0</td>\n",
              "      <td>male</td>\n",
              "      <td>back</td>\n",
              "      <td>HAM10000_images_part_2/ISIC_0033894.jpg</td>\n",
              "      <td>Melanocytic nevi</td>\n",
              "      <td>4</td>\n",
              "    </tr>\n",
              "    <tr>\n",
              "      <th>7086</th>\n",
              "      <td>HAM_0005686</td>\n",
              "      <td>ISIC_0033112</td>\n",
              "      <td>nv</td>\n",
              "      <td>histo</td>\n",
              "      <td>25.0</td>\n",
              "      <td>male</td>\n",
              "      <td>back</td>\n",
              "      <td>HAM10000_images_part_2/ISIC_0033112.jpg</td>\n",
              "      <td>Melanocytic nevi</td>\n",
              "      <td>4</td>\n",
              "    </tr>\n",
              "    <tr>\n",
              "      <th>4127</th>\n",
              "      <td>HAM_0005890</td>\n",
              "      <td>ISIC_0027653</td>\n",
              "      <td>nv</td>\n",
              "      <td>follow_up</td>\n",
              "      <td>60.0</td>\n",
              "      <td>male</td>\n",
              "      <td>abdomen</td>\n",
              "      <td>HAM10000_images_part_1/ISIC_0027653.jpg</td>\n",
              "      <td>Melanocytic nevi</td>\n",
              "      <td>4</td>\n",
              "    </tr>\n",
              "    <tr>\n",
              "      <th>914</th>\n",
              "      <td>HAM_0003218</td>\n",
              "      <td>ISIC_0033305</td>\n",
              "      <td>bkl</td>\n",
              "      <td>consensus</td>\n",
              "      <td>75.0</td>\n",
              "      <td>male</td>\n",
              "      <td>back</td>\n",
              "      <td>HAM10000_images_part_2/ISIC_0033305.jpg</td>\n",
              "      <td>Benign keratosis-like lesions</td>\n",
              "      <td>2</td>\n",
              "    </tr>\n",
              "  </tbody>\n",
              "</table>\n",
              "</div>"
            ],
            "text/plain": [
              "        lesion_id      image_id  ...                       cell_type cell_type_idx\n",
              "296   HAM_0004566  ISIC_0029394  ...  Benign keratosis-like lesions              2\n",
              "6797  HAM_0006197  ISIC_0028332  ...                Melanocytic nevi             4\n",
              "7125  HAM_0002494  ISIC_0033686  ...                Melanocytic nevi             4\n",
              "6283  HAM_0006562  ISIC_0031084  ...                Melanocytic nevi             4\n",
              "5358  HAM_0005635  ISIC_0024878  ...                Melanocytic nevi             4\n",
              "2148  HAM_0002906  ISIC_0027517  ...                        Melanoma             5\n",
              "7672  HAM_0000676  ISIC_0033894  ...                Melanocytic nevi             4\n",
              "7086  HAM_0005686  ISIC_0033112  ...                Melanocytic nevi             4\n",
              "4127  HAM_0005890  ISIC_0027653  ...                Melanocytic nevi             4\n",
              "914   HAM_0003218  ISIC_0033305  ...  Benign keratosis-like lesions              2\n",
              "\n",
              "[10 rows x 10 columns]"
            ]
          },
          "metadata": {
            "tags": []
          },
          "execution_count": 12
        }
      ]
    },
    {
      "cell_type": "markdown",
      "metadata": {
        "id": "JkxXoEWdCVjH",
        "colab_type": "text"
      },
      "source": [
        "Check The Missing Value"
      ]
    },
    {
      "cell_type": "code",
      "metadata": {
        "id": "o3hMrQN-U7Cw",
        "colab_type": "code",
        "colab": {
          "base_uri": "https://localhost:8080/",
          "height": 217
        },
        "outputId": "b36253fe-a32a-4bab-bd3a-e65a5603eccd"
      },
      "source": [
        "df.isnull().sum()"
      ],
      "execution_count": 13,
      "outputs": [
        {
          "output_type": "execute_result",
          "data": {
            "text/plain": [
              "lesion_id         0\n",
              "image_id          0\n",
              "dx                0\n",
              "dx_type           0\n",
              "age              57\n",
              "sex               0\n",
              "localization      0\n",
              "path              0\n",
              "cell_type         0\n",
              "cell_type_idx     0\n",
              "dtype: int64"
            ]
          },
          "metadata": {
            "tags": []
          },
          "execution_count": 13
        }
      ]
    },
    {
      "cell_type": "markdown",
      "metadata": {
        "id": "21Sftql3CYt8",
        "colab_type": "text"
      },
      "source": [
        "Fill The Missing Values"
      ]
    },
    {
      "cell_type": "code",
      "metadata": {
        "id": "an4i2PE4U9ls",
        "colab_type": "code",
        "colab": {}
      },
      "source": [
        "df['age'].fillna((df['age'].median()), inplace=True)"
      ],
      "execution_count": 14,
      "outputs": []
    },
    {
      "cell_type": "code",
      "metadata": {
        "id": "Sx6y0zWqIeJn",
        "colab_type": "code",
        "colab": {
          "base_uri": "https://localhost:8080/",
          "height": 1000
        },
        "outputId": "8b95c094-1dac-4b38-d29e-39b5259933dc"
      },
      "source": [
        "from PIL import Image\n",
        "df['image'] = df['path'].map(lambda x: np.asarray(Image.open(x).resize((100, 75))))\n",
        "df"
      ],
      "execution_count": 15,
      "outputs": [
        {
          "output_type": "execute_result",
          "data": {
            "text/html": [
              "<div>\n",
              "<style scoped>\n",
              "    .dataframe tbody tr th:only-of-type {\n",
              "        vertical-align: middle;\n",
              "    }\n",
              "\n",
              "    .dataframe tbody tr th {\n",
              "        vertical-align: top;\n",
              "    }\n",
              "\n",
              "    .dataframe thead th {\n",
              "        text-align: right;\n",
              "    }\n",
              "</style>\n",
              "<table border=\"1\" class=\"dataframe\">\n",
              "  <thead>\n",
              "    <tr style=\"text-align: right;\">\n",
              "      <th></th>\n",
              "      <th>lesion_id</th>\n",
              "      <th>image_id</th>\n",
              "      <th>dx</th>\n",
              "      <th>dx_type</th>\n",
              "      <th>age</th>\n",
              "      <th>sex</th>\n",
              "      <th>localization</th>\n",
              "      <th>path</th>\n",
              "      <th>cell_type</th>\n",
              "      <th>cell_type_idx</th>\n",
              "      <th>image</th>\n",
              "    </tr>\n",
              "  </thead>\n",
              "  <tbody>\n",
              "    <tr>\n",
              "      <th>0</th>\n",
              "      <td>HAM_0000118</td>\n",
              "      <td>ISIC_0027419</td>\n",
              "      <td>bkl</td>\n",
              "      <td>histo</td>\n",
              "      <td>80.0</td>\n",
              "      <td>male</td>\n",
              "      <td>scalp</td>\n",
              "      <td>HAM10000_images_part_1/ISIC_0027419.jpg</td>\n",
              "      <td>Benign keratosis-like lesions</td>\n",
              "      <td>2</td>\n",
              "      <td>[[[190, 153, 194], [192, 154, 196], [191, 153,...</td>\n",
              "    </tr>\n",
              "    <tr>\n",
              "      <th>1</th>\n",
              "      <td>HAM_0000118</td>\n",
              "      <td>ISIC_0025030</td>\n",
              "      <td>bkl</td>\n",
              "      <td>histo</td>\n",
              "      <td>80.0</td>\n",
              "      <td>male</td>\n",
              "      <td>scalp</td>\n",
              "      <td>HAM10000_images_part_1/ISIC_0025030.jpg</td>\n",
              "      <td>Benign keratosis-like lesions</td>\n",
              "      <td>2</td>\n",
              "      <td>[[[23, 13, 22], [24, 14, 24], [25, 14, 28], [3...</td>\n",
              "    </tr>\n",
              "    <tr>\n",
              "      <th>2</th>\n",
              "      <td>HAM_0002730</td>\n",
              "      <td>ISIC_0026769</td>\n",
              "      <td>bkl</td>\n",
              "      <td>histo</td>\n",
              "      <td>80.0</td>\n",
              "      <td>male</td>\n",
              "      <td>scalp</td>\n",
              "      <td>HAM10000_images_part_1/ISIC_0026769.jpg</td>\n",
              "      <td>Benign keratosis-like lesions</td>\n",
              "      <td>2</td>\n",
              "      <td>[[[185, 127, 137], [189, 133, 147], [194, 136,...</td>\n",
              "    </tr>\n",
              "    <tr>\n",
              "      <th>3</th>\n",
              "      <td>HAM_0002730</td>\n",
              "      <td>ISIC_0025661</td>\n",
              "      <td>bkl</td>\n",
              "      <td>histo</td>\n",
              "      <td>80.0</td>\n",
              "      <td>male</td>\n",
              "      <td>scalp</td>\n",
              "      <td>HAM10000_images_part_1/ISIC_0025661.jpg</td>\n",
              "      <td>Benign keratosis-like lesions</td>\n",
              "      <td>2</td>\n",
              "      <td>[[[24, 11, 17], [26, 13, 22], [38, 21, 32], [5...</td>\n",
              "    </tr>\n",
              "    <tr>\n",
              "      <th>4</th>\n",
              "      <td>HAM_0001466</td>\n",
              "      <td>ISIC_0031633</td>\n",
              "      <td>bkl</td>\n",
              "      <td>histo</td>\n",
              "      <td>75.0</td>\n",
              "      <td>male</td>\n",
              "      <td>ear</td>\n",
              "      <td>HAM10000_images_part_2/ISIC_0031633.jpg</td>\n",
              "      <td>Benign keratosis-like lesions</td>\n",
              "      <td>2</td>\n",
              "      <td>[[[134, 90, 113], [147, 102, 125], [159, 115, ...</td>\n",
              "    </tr>\n",
              "    <tr>\n",
              "      <th>...</th>\n",
              "      <td>...</td>\n",
              "      <td>...</td>\n",
              "      <td>...</td>\n",
              "      <td>...</td>\n",
              "      <td>...</td>\n",
              "      <td>...</td>\n",
              "      <td>...</td>\n",
              "      <td>...</td>\n",
              "      <td>...</td>\n",
              "      <td>...</td>\n",
              "      <td>...</td>\n",
              "    </tr>\n",
              "    <tr>\n",
              "      <th>10010</th>\n",
              "      <td>HAM_0002867</td>\n",
              "      <td>ISIC_0033084</td>\n",
              "      <td>akiec</td>\n",
              "      <td>histo</td>\n",
              "      <td>40.0</td>\n",
              "      <td>male</td>\n",
              "      <td>abdomen</td>\n",
              "      <td>HAM10000_images_part_2/ISIC_0033084.jpg</td>\n",
              "      <td>Actinic keratoses</td>\n",
              "      <td>0</td>\n",
              "      <td>[[[155, 137, 148], [154, 136, 147], [151, 134,...</td>\n",
              "    </tr>\n",
              "    <tr>\n",
              "      <th>10011</th>\n",
              "      <td>HAM_0002867</td>\n",
              "      <td>ISIC_0033550</td>\n",
              "      <td>akiec</td>\n",
              "      <td>histo</td>\n",
              "      <td>40.0</td>\n",
              "      <td>male</td>\n",
              "      <td>abdomen</td>\n",
              "      <td>HAM10000_images_part_2/ISIC_0033550.jpg</td>\n",
              "      <td>Actinic keratoses</td>\n",
              "      <td>0</td>\n",
              "      <td>[[[5, 6, 4], [6, 7, 4], [7, 8, 6], [7, 7, 5], ...</td>\n",
              "    </tr>\n",
              "    <tr>\n",
              "      <th>10012</th>\n",
              "      <td>HAM_0002867</td>\n",
              "      <td>ISIC_0033536</td>\n",
              "      <td>akiec</td>\n",
              "      <td>histo</td>\n",
              "      <td>40.0</td>\n",
              "      <td>male</td>\n",
              "      <td>abdomen</td>\n",
              "      <td>HAM10000_images_part_2/ISIC_0033536.jpg</td>\n",
              "      <td>Actinic keratoses</td>\n",
              "      <td>0</td>\n",
              "      <td>[[[112, 102, 105], [127, 116, 117], [141, 127,...</td>\n",
              "    </tr>\n",
              "    <tr>\n",
              "      <th>10013</th>\n",
              "      <td>HAM_0000239</td>\n",
              "      <td>ISIC_0032854</td>\n",
              "      <td>akiec</td>\n",
              "      <td>histo</td>\n",
              "      <td>80.0</td>\n",
              "      <td>male</td>\n",
              "      <td>face</td>\n",
              "      <td>HAM10000_images_part_2/ISIC_0032854.jpg</td>\n",
              "      <td>Actinic keratoses</td>\n",
              "      <td>0</td>\n",
              "      <td>[[[159, 122, 146], [159, 123, 141], [154, 112,...</td>\n",
              "    </tr>\n",
              "    <tr>\n",
              "      <th>10014</th>\n",
              "      <td>HAM_0003521</td>\n",
              "      <td>ISIC_0032258</td>\n",
              "      <td>mel</td>\n",
              "      <td>histo</td>\n",
              "      <td>70.0</td>\n",
              "      <td>female</td>\n",
              "      <td>back</td>\n",
              "      <td>HAM10000_images_part_2/ISIC_0032258.jpg</td>\n",
              "      <td>Melanoma</td>\n",
              "      <td>5</td>\n",
              "      <td>[[[177, 147, 133], [176, 143, 132], [177, 143,...</td>\n",
              "    </tr>\n",
              "  </tbody>\n",
              "</table>\n",
              "<p>10015 rows × 11 columns</p>\n",
              "</div>"
            ],
            "text/plain": [
              "         lesion_id  ...                                              image\n",
              "0      HAM_0000118  ...  [[[190, 153, 194], [192, 154, 196], [191, 153,...\n",
              "1      HAM_0000118  ...  [[[23, 13, 22], [24, 14, 24], [25, 14, 28], [3...\n",
              "2      HAM_0002730  ...  [[[185, 127, 137], [189, 133, 147], [194, 136,...\n",
              "3      HAM_0002730  ...  [[[24, 11, 17], [26, 13, 22], [38, 21, 32], [5...\n",
              "4      HAM_0001466  ...  [[[134, 90, 113], [147, 102, 125], [159, 115, ...\n",
              "...            ...  ...                                                ...\n",
              "10010  HAM_0002867  ...  [[[155, 137, 148], [154, 136, 147], [151, 134,...\n",
              "10011  HAM_0002867  ...  [[[5, 6, 4], [6, 7, 4], [7, 8, 6], [7, 7, 5], ...\n",
              "10012  HAM_0002867  ...  [[[112, 102, 105], [127, 116, 117], [141, 127,...\n",
              "10013  HAM_0000239  ...  [[[159, 122, 146], [159, 123, 141], [154, 112,...\n",
              "10014  HAM_0003521  ...  [[[177, 147, 133], [176, 143, 132], [177, 143,...\n",
              "\n",
              "[10015 rows x 11 columns]"
            ]
          },
          "metadata": {
            "tags": []
          },
          "execution_count": 15
        }
      ]
    },
    {
      "cell_type": "code",
      "metadata": {
        "id": "OAc8pZR9U_3f",
        "colab_type": "code",
        "colab": {}
      },
      "source": [
        "x=df.drop(columns=['cell_type_idx'],axis=1)\n",
        "y=df['cell_type_idx']"
      ],
      "execution_count": 16,
      "outputs": []
    },
    {
      "cell_type": "markdown",
      "metadata": {
        "id": "kZFvI7yjCdxA",
        "colab_type": "text"
      },
      "source": [
        "Split the data"
      ]
    },
    {
      "cell_type": "code",
      "metadata": {
        "id": "YFEbKNCGWeEw",
        "colab_type": "code",
        "colab": {}
      },
      "source": [
        "X_train, X_test, y_train, y_test = train_test_split(x, y, test_size=0.2)"
      ],
      "execution_count": 17,
      "outputs": []
    },
    {
      "cell_type": "code",
      "metadata": {
        "id": "S1Np66efZ6Ww",
        "colab_type": "code",
        "colab": {}
      },
      "source": [
        "# Normalization\n",
        "X_train = np.asarray(X_train['image'].tolist())\n",
        "X_test = np.asarray(X_test['image'].tolist())\n",
        "\n",
        "X_train_mean = np.mean(X_train)\n",
        "X_test_mean = np.mean(X_test)\n",
        "\n",
        "X_train_std = np.std(X_train)\n",
        "X_test_std = np.std(X_test)\n",
        "\n",
        "X_train = (X_train - X_train_mean)/X_train_std\n",
        "X_test = (X_test - X_test_mean)/X_test_std"
      ],
      "execution_count": 18,
      "outputs": []
    },
    {
      "cell_type": "code",
      "metadata": {
        "id": "zmgsTsiheP0K",
        "colab_type": "code",
        "colab": {}
      },
      "source": [
        "y_train = to_categorical(y_train, num_classes = 7)\n",
        "y_test = to_categorical(y_test, num_classes = 7)"
      ],
      "execution_count": 19,
      "outputs": []
    },
    {
      "cell_type": "code",
      "metadata": {
        "id": "XqtZkAcMWi-F",
        "colab_type": "code",
        "colab": {}
      },
      "source": [
        "X_train = X_train.reshape(X_train.shape[0], *(75, 100, 3))\n",
        "X_test = X_test.reshape(X_test.shape[0], *(75, 100, 3))"
      ],
      "execution_count": 20,
      "outputs": []
    },
    {
      "cell_type": "code",
      "metadata": {
        "id": "NYbpGFKCheTp",
        "colab_type": "code",
        "colab": {}
      },
      "source": [
        "X_train = X_train.astype('float32')/255\n",
        "X_test = X_test.astype('float32')/255"
      ],
      "execution_count": 21,
      "outputs": []
    },
    {
      "cell_type": "markdown",
      "metadata": {
        "id": "ndyB9k0VChfm",
        "colab_type": "text"
      },
      "source": [
        "Build the model"
      ]
    },
    {
      "cell_type": "code",
      "metadata": {
        "colab_type": "code",
        "id": "PixZ2s5QbYQ3",
        "colab": {}
      },
      "source": [
        "model = tf.keras.models.Sequential([\n",
        "    tf.keras.layers.Conv2D(16, kernel_size = 2, activation='relu', input_shape=(75, 100, 3),padding='same'),\n",
        "    tf.keras.layers.MaxPooling2D(2,2),\n",
        "    tf.keras.layers.Conv2D(32, kernel_size = 2, activation='relu',padding='same'),\n",
        "    tf.keras.layers.MaxPooling2D(2,2), \n",
        "    tf.keras.layers.Conv2D(64, kernel_size = 2, activation='relu',padding='same'), \n",
        "    tf.keras.layers.MaxPooling2D(2,2),\n",
        "    tf.keras.layers.Conv2D(128, kernel_size = 2, activation='relu',padding='same'), \n",
        "    tf.keras.layers.MaxPooling2D(2,2),\n",
        "    # Flatten the results to feed into a DNN\n",
        "    tf.keras.layers.Dropout(0.3),\n",
        "    tf.keras.layers.Flatten(), \n",
        "    tf.keras.layers.Dense(150, activation='relu'), \n",
        "    tf.keras.layers.Dropout(0.4),\n",
        "    tf.keras.layers.Dense(7, activation='softmax'), \n",
        "  \n",
        "])"
      ],
      "execution_count": 22,
      "outputs": []
    },
    {
      "cell_type": "code",
      "metadata": {
        "id": "Y9ElQxUmi-V-",
        "colab_type": "code",
        "colab": {}
      },
      "source": [
        "from tensorflow.keras.optimizers import RMSprop\n",
        "\n",
        "model.compile(optimizer=RMSprop(lr=0.001),\n",
        "              loss='categorical_crossentropy',\n",
        "              metrics = ['accuracy'])"
      ],
      "execution_count": 23,
      "outputs": []
    },
    {
      "cell_type": "code",
      "metadata": {
        "id": "5sp2h2PzW7Ah",
        "colab_type": "code",
        "colab": {
          "base_uri": "https://localhost:8080/",
          "height": 635
        },
        "outputId": "7908624f-eab5-41bc-e090-fc5829c59891"
      },
      "source": [
        "#Reviewing our CNN model\n",
        "model.summary()"
      ],
      "execution_count": 24,
      "outputs": [
        {
          "output_type": "stream",
          "text": [
            "Model: \"sequential\"\n",
            "_________________________________________________________________\n",
            "Layer (type)                 Output Shape              Param #   \n",
            "=================================================================\n",
            "conv2d (Conv2D)              (None, 75, 100, 16)       208       \n",
            "_________________________________________________________________\n",
            "max_pooling2d (MaxPooling2D) (None, 37, 50, 16)        0         \n",
            "_________________________________________________________________\n",
            "conv2d_1 (Conv2D)            (None, 37, 50, 32)        2080      \n",
            "_________________________________________________________________\n",
            "max_pooling2d_1 (MaxPooling2 (None, 18, 25, 32)        0         \n",
            "_________________________________________________________________\n",
            "conv2d_2 (Conv2D)            (None, 18, 25, 64)        8256      \n",
            "_________________________________________________________________\n",
            "max_pooling2d_2 (MaxPooling2 (None, 9, 12, 64)         0         \n",
            "_________________________________________________________________\n",
            "conv2d_3 (Conv2D)            (None, 9, 12, 128)        32896     \n",
            "_________________________________________________________________\n",
            "max_pooling2d_3 (MaxPooling2 (None, 4, 6, 128)         0         \n",
            "_________________________________________________________________\n",
            "dropout (Dropout)            (None, 4, 6, 128)         0         \n",
            "_________________________________________________________________\n",
            "flatten (Flatten)            (None, 3072)              0         \n",
            "_________________________________________________________________\n",
            "dense (Dense)                (None, 150)               460950    \n",
            "_________________________________________________________________\n",
            "dropout_1 (Dropout)          (None, 150)               0         \n",
            "_________________________________________________________________\n",
            "dense_1 (Dense)              (None, 7)                 1057      \n",
            "=================================================================\n",
            "Total params: 505,447\n",
            "Trainable params: 505,447\n",
            "Non-trainable params: 0\n",
            "_________________________________________________________________\n"
          ],
          "name": "stdout"
        }
      ]
    },
    {
      "cell_type": "code",
      "metadata": {
        "id": "Vr0cC_mEfZWS",
        "colab_type": "code",
        "colab": {}
      },
      "source": [
        "data_generator=ImageDataGenerator(rotation_range=20, # rotate the image 20 degrees\n",
        "                               width_shift_range=0.10, # Shift the pic width by a max of 5%\n",
        "                               height_shift_range=0.10, # Shift the pic height by a max of 5%\n",
        "                               rescale=1/255, # Rescale the image by normalzing it.\n",
        "                               shear_range=0.1, # Shear means cutting away part of the image (max 10%)\n",
        "                               zoom_range=0.1, # Zoom in by 10% max\n",
        "                               horizontal_flip=True,\n",
        "                               vertical_flip=True,\n",
        "                               fill_mode='nearest')"
      ],
      "execution_count": 25,
      "outputs": []
    },
    {
      "cell_type": "code",
      "metadata": {
        "id": "H-K-9SAKqgKr",
        "colab_type": "code",
        "colab": {}
      },
      "source": [
        "data_generator.fit(X_train)"
      ],
      "execution_count": 26,
      "outputs": []
    },
    {
      "cell_type": "markdown",
      "metadata": {
        "id": "KYMaIoRGCmFA",
        "colab_type": "text"
      },
      "source": [
        "Train the model"
      ]
    },
    {
      "cell_type": "code",
      "metadata": {
        "id": "DypAILQWqwjs",
        "colab_type": "code",
        "colab": {
          "base_uri": "https://localhost:8080/",
          "height": 1000
        },
        "outputId": "29c25979-36b3-48bd-a902-d24727bb7f1b"
      },
      "source": [
        "checkpointer = tf.keras.callbacks.ModelCheckpoint(filepath = 'model.hdf5', verbose = 1, save_best_only = True)\n",
        "\n",
        "history = model.fit(X_train,y_train,\n",
        "        batch_size = 32,\n",
        "        epochs=50,\n",
        "        validation_data=(X_test, y_test),\n",
        "        callbacks = [checkpointer],\n",
        "        verbose=2, shuffle=True)"
      ],
      "execution_count": 27,
      "outputs": [
        {
          "output_type": "stream",
          "text": [
            "Epoch 1/50\n",
            "\n",
            "Epoch 00001: val_loss improved from inf to 1.08703, saving model to model.hdf5\n",
            "251/251 - 2s - loss: 1.1549 - accuracy: 0.6639 - val_loss: 1.0870 - val_accuracy: 0.6845\n",
            "Epoch 2/50\n",
            "\n",
            "Epoch 00002: val_loss did not improve from 1.08703\n",
            "251/251 - 2s - loss: 1.0488 - accuracy: 0.6656 - val_loss: 1.1635 - val_accuracy: 0.6845\n",
            "Epoch 3/50\n",
            "\n",
            "Epoch 00003: val_loss improved from 1.08703 to 0.92400, saving model to model.hdf5\n",
            "251/251 - 2s - loss: 1.0075 - accuracy: 0.6659 - val_loss: 0.9240 - val_accuracy: 0.6845\n",
            "Epoch 4/50\n",
            "\n",
            "Epoch 00004: val_loss did not improve from 0.92400\n",
            "251/251 - 2s - loss: 0.9660 - accuracy: 0.6664 - val_loss: 0.9606 - val_accuracy: 0.6850\n",
            "Epoch 5/50\n",
            "\n",
            "Epoch 00005: val_loss did not improve from 0.92400\n",
            "251/251 - 2s - loss: 0.9337 - accuracy: 0.6697 - val_loss: 0.9769 - val_accuracy: 0.6860\n",
            "Epoch 6/50\n",
            "\n",
            "Epoch 00006: val_loss improved from 0.92400 to 0.82835, saving model to model.hdf5\n",
            "251/251 - 2s - loss: 0.9117 - accuracy: 0.6770 - val_loss: 0.8283 - val_accuracy: 0.7049\n",
            "Epoch 7/50\n",
            "\n",
            "Epoch 00007: val_loss did not improve from 0.82835\n",
            "251/251 - 2s - loss: 0.8932 - accuracy: 0.6890 - val_loss: 0.8382 - val_accuracy: 0.7084\n",
            "Epoch 8/50\n",
            "\n",
            "Epoch 00008: val_loss did not improve from 0.82835\n",
            "251/251 - 2s - loss: 0.8783 - accuracy: 0.6958 - val_loss: 0.8314 - val_accuracy: 0.7084\n",
            "Epoch 9/50\n",
            "\n",
            "Epoch 00009: val_loss improved from 0.82835 to 0.82598, saving model to model.hdf5\n",
            "251/251 - 2s - loss: 0.8652 - accuracy: 0.6975 - val_loss: 0.8260 - val_accuracy: 0.7129\n",
            "Epoch 10/50\n",
            "\n",
            "Epoch 00010: val_loss did not improve from 0.82598\n",
            "251/251 - 2s - loss: 0.8629 - accuracy: 0.6977 - val_loss: 0.8385 - val_accuracy: 0.6970\n",
            "Epoch 11/50\n",
            "\n",
            "Epoch 00011: val_loss did not improve from 0.82598\n",
            "251/251 - 2s - loss: 0.8499 - accuracy: 0.7021 - val_loss: 0.9234 - val_accuracy: 0.6925\n",
            "Epoch 12/50\n",
            "\n",
            "Epoch 00012: val_loss did not improve from 0.82598\n",
            "251/251 - 2s - loss: 0.8403 - accuracy: 0.7054 - val_loss: 0.8978 - val_accuracy: 0.7029\n",
            "Epoch 13/50\n",
            "\n",
            "Epoch 00013: val_loss improved from 0.82598 to 0.78794, saving model to model.hdf5\n",
            "251/251 - 2s - loss: 0.8401 - accuracy: 0.7064 - val_loss: 0.7879 - val_accuracy: 0.7149\n",
            "Epoch 14/50\n",
            "\n",
            "Epoch 00014: val_loss did not improve from 0.78794\n",
            "251/251 - 2s - loss: 0.8309 - accuracy: 0.7087 - val_loss: 0.8095 - val_accuracy: 0.7174\n",
            "Epoch 15/50\n",
            "\n",
            "Epoch 00015: val_loss did not improve from 0.78794\n",
            "251/251 - 2s - loss: 0.8287 - accuracy: 0.7094 - val_loss: 0.8190 - val_accuracy: 0.7094\n",
            "Epoch 16/50\n",
            "\n",
            "Epoch 00016: val_loss did not improve from 0.78794\n",
            "251/251 - 2s - loss: 0.8149 - accuracy: 0.7126 - val_loss: 0.8474 - val_accuracy: 0.6960\n",
            "Epoch 17/50\n",
            "\n",
            "Epoch 00017: val_loss did not improve from 0.78794\n",
            "251/251 - 2s - loss: 0.8139 - accuracy: 0.7114 - val_loss: 0.8154 - val_accuracy: 0.7224\n",
            "Epoch 18/50\n",
            "\n",
            "Epoch 00018: val_loss did not improve from 0.78794\n",
            "251/251 - 2s - loss: 0.8062 - accuracy: 0.7142 - val_loss: 1.0070 - val_accuracy: 0.6735\n",
            "Epoch 19/50\n",
            "\n",
            "Epoch 00019: val_loss improved from 0.78794 to 0.76605, saving model to model.hdf5\n",
            "251/251 - 2s - loss: 0.8022 - accuracy: 0.7148 - val_loss: 0.7660 - val_accuracy: 0.7234\n",
            "Epoch 20/50\n",
            "\n",
            "Epoch 00020: val_loss did not improve from 0.76605\n",
            "251/251 - 2s - loss: 0.7993 - accuracy: 0.7217 - val_loss: 0.7992 - val_accuracy: 0.7249\n",
            "Epoch 21/50\n",
            "\n",
            "Epoch 00021: val_loss did not improve from 0.76605\n",
            "251/251 - 2s - loss: 0.7957 - accuracy: 0.7198 - val_loss: 0.9233 - val_accuracy: 0.6945\n",
            "Epoch 22/50\n",
            "\n",
            "Epoch 00022: val_loss did not improve from 0.76605\n",
            "251/251 - 2s - loss: 0.7847 - accuracy: 0.7209 - val_loss: 0.7806 - val_accuracy: 0.7139\n",
            "Epoch 23/50\n",
            "\n",
            "Epoch 00023: val_loss did not improve from 0.76605\n",
            "251/251 - 2s - loss: 0.7880 - accuracy: 0.7228 - val_loss: 0.8035 - val_accuracy: 0.7249\n",
            "Epoch 24/50\n",
            "\n",
            "Epoch 00024: val_loss did not improve from 0.76605\n",
            "251/251 - 2s - loss: 0.7810 - accuracy: 0.7229 - val_loss: 0.7913 - val_accuracy: 0.7259\n",
            "Epoch 25/50\n",
            "\n",
            "Epoch 00025: val_loss improved from 0.76605 to 0.75910, saving model to model.hdf5\n",
            "251/251 - 2s - loss: 0.7788 - accuracy: 0.7227 - val_loss: 0.7591 - val_accuracy: 0.7309\n",
            "Epoch 26/50\n",
            "\n",
            "Epoch 00026: val_loss did not improve from 0.75910\n",
            "251/251 - 2s - loss: 0.7793 - accuracy: 0.7257 - val_loss: 0.8244 - val_accuracy: 0.7179\n",
            "Epoch 27/50\n",
            "\n",
            "Epoch 00027: val_loss did not improve from 0.75910\n",
            "251/251 - 2s - loss: 0.7803 - accuracy: 0.7199 - val_loss: 0.7659 - val_accuracy: 0.7309\n",
            "Epoch 28/50\n",
            "\n",
            "Epoch 00028: val_loss did not improve from 0.75910\n",
            "251/251 - 2s - loss: 0.7684 - accuracy: 0.7287 - val_loss: 0.8780 - val_accuracy: 0.7089\n",
            "Epoch 29/50\n",
            "\n",
            "Epoch 00029: val_loss did not improve from 0.75910\n",
            "251/251 - 2s - loss: 0.7742 - accuracy: 0.7248 - val_loss: 0.8543 - val_accuracy: 0.7129\n",
            "Epoch 30/50\n",
            "\n",
            "Epoch 00030: val_loss did not improve from 0.75910\n",
            "251/251 - 2s - loss: 0.7661 - accuracy: 0.7250 - val_loss: 0.7726 - val_accuracy: 0.7169\n",
            "Epoch 31/50\n",
            "\n",
            "Epoch 00031: val_loss did not improve from 0.75910\n",
            "251/251 - 2s - loss: 0.7572 - accuracy: 0.7353 - val_loss: 0.7778 - val_accuracy: 0.7329\n",
            "Epoch 32/50\n",
            "\n",
            "Epoch 00032: val_loss did not improve from 0.75910\n",
            "251/251 - 2s - loss: 0.7569 - accuracy: 0.7304 - val_loss: 0.9006 - val_accuracy: 0.7114\n",
            "Epoch 33/50\n",
            "\n",
            "Epoch 00033: val_loss did not improve from 0.75910\n",
            "251/251 - 2s - loss: 0.7573 - accuracy: 0.7338 - val_loss: 0.8051 - val_accuracy: 0.7184\n",
            "Epoch 34/50\n",
            "\n",
            "Epoch 00034: val_loss did not improve from 0.75910\n",
            "251/251 - 2s - loss: 0.7557 - accuracy: 0.7318 - val_loss: 0.7982 - val_accuracy: 0.7294\n",
            "Epoch 35/50\n",
            "\n",
            "Epoch 00035: val_loss did not improve from 0.75910\n",
            "251/251 - 2s - loss: 0.7639 - accuracy: 0.7270 - val_loss: 0.7679 - val_accuracy: 0.7184\n",
            "Epoch 36/50\n",
            "\n",
            "Epoch 00036: val_loss did not improve from 0.75910\n",
            "251/251 - 2s - loss: 0.7549 - accuracy: 0.7358 - val_loss: 0.7966 - val_accuracy: 0.7194\n",
            "Epoch 37/50\n",
            "\n",
            "Epoch 00037: val_loss improved from 0.75910 to 0.75652, saving model to model.hdf5\n",
            "251/251 - 2s - loss: 0.7571 - accuracy: 0.7329 - val_loss: 0.7565 - val_accuracy: 0.7254\n",
            "Epoch 38/50\n",
            "\n",
            "Epoch 00038: val_loss did not improve from 0.75652\n",
            "251/251 - 2s - loss: 0.7559 - accuracy: 0.7309 - val_loss: 0.7643 - val_accuracy: 0.7314\n",
            "Epoch 39/50\n",
            "\n",
            "Epoch 00039: val_loss did not improve from 0.75652\n",
            "251/251 - 2s - loss: 0.7547 - accuracy: 0.7359 - val_loss: 0.7895 - val_accuracy: 0.7189\n",
            "Epoch 40/50\n",
            "\n",
            "Epoch 00040: val_loss did not improve from 0.75652\n",
            "251/251 - 2s - loss: 0.7468 - accuracy: 0.7389 - val_loss: 0.7973 - val_accuracy: 0.7319\n",
            "Epoch 41/50\n",
            "\n",
            "Epoch 00041: val_loss did not improve from 0.75652\n",
            "251/251 - 2s - loss: 0.7550 - accuracy: 0.7332 - val_loss: 0.7731 - val_accuracy: 0.7304\n",
            "Epoch 42/50\n",
            "\n",
            "Epoch 00042: val_loss did not improve from 0.75652\n",
            "251/251 - 2s - loss: 0.7528 - accuracy: 0.7334 - val_loss: 0.9606 - val_accuracy: 0.7124\n",
            "Epoch 43/50\n",
            "\n",
            "Epoch 00043: val_loss improved from 0.75652 to 0.75578, saving model to model.hdf5\n",
            "251/251 - 2s - loss: 0.7406 - accuracy: 0.7381 - val_loss: 0.7558 - val_accuracy: 0.7339\n",
            "Epoch 44/50\n",
            "\n",
            "Epoch 00044: val_loss did not improve from 0.75578\n",
            "251/251 - 2s - loss: 0.7397 - accuracy: 0.7386 - val_loss: 0.7838 - val_accuracy: 0.7249\n",
            "Epoch 45/50\n",
            "\n",
            "Epoch 00045: val_loss did not improve from 0.75578\n",
            "251/251 - 2s - loss: 0.7458 - accuracy: 0.7378 - val_loss: 0.8269 - val_accuracy: 0.7089\n",
            "Epoch 46/50\n",
            "\n",
            "Epoch 00046: val_loss did not improve from 0.75578\n",
            "251/251 - 2s - loss: 0.7497 - accuracy: 0.7365 - val_loss: 0.7649 - val_accuracy: 0.7219\n",
            "Epoch 47/50\n",
            "\n",
            "Epoch 00047: val_loss did not improve from 0.75578\n",
            "251/251 - 2s - loss: 0.7464 - accuracy: 0.7406 - val_loss: 0.7684 - val_accuracy: 0.7269\n",
            "Epoch 48/50\n",
            "\n",
            "Epoch 00048: val_loss did not improve from 0.75578\n",
            "251/251 - 2s - loss: 0.7511 - accuracy: 0.7363 - val_loss: 0.7665 - val_accuracy: 0.7339\n",
            "Epoch 49/50\n",
            "\n",
            "Epoch 00049: val_loss did not improve from 0.75578\n",
            "251/251 - 2s - loss: 0.7414 - accuracy: 0.7373 - val_loss: 0.7954 - val_accuracy: 0.7299\n",
            "Epoch 50/50\n",
            "\n",
            "Epoch 00050: val_loss did not improve from 0.75578\n",
            "251/251 - 2s - loss: 0.7378 - accuracy: 0.7355 - val_loss: 1.0344 - val_accuracy: 0.7169\n"
          ],
          "name": "stdout"
        }
      ]
    },
    {
      "cell_type": "markdown",
      "metadata": {
        "id": "sZ3t0wq8CpMz",
        "colab_type": "text"
      },
      "source": [
        "Check the accurancy"
      ]
    },
    {
      "cell_type": "code",
      "metadata": {
        "id": "RK7eTKZA1jMB",
        "colab_type": "code",
        "colab": {
          "base_uri": "https://localhost:8080/",
          "height": 126
        },
        "outputId": "05b5ccf1-7c74-457e-dbca-1fa4e62d76eb"
      },
      "source": [
        "model.load_weights('model.hdf5')\n",
        "score = model.evaluate(X_train, y_train, verbose=1)\n",
        "print('\\n', 'Train accuracy:', score[1])\n",
        "score1 = model.evaluate(X_test, y_test, verbose=1)\n",
        "print('\\n', 'Validation accuracy:', score1[1])"
      ],
      "execution_count": 29,
      "outputs": [
        {
          "output_type": "stream",
          "text": [
            "251/251 [==============================] - 1s 4ms/step - loss: 0.6839 - accuracy: 0.7621\n",
            "\n",
            " Train accuracy: 0.7621068358421326\n",
            "63/63 [==============================] - 0s 4ms/step - loss: 0.7558 - accuracy: 0.7339\n",
            "\n",
            " Validation accuracy: 0.7338991761207581\n"
          ],
          "name": "stdout"
        }
      ]
    },
    {
      "cell_type": "code",
      "metadata": {
        "id": "m3bactml4wrC",
        "colab_type": "code",
        "colab": {
          "base_uri": "https://localhost:8080/",
          "height": 295
        },
        "outputId": "b7772e1b-cea3-4658-b071-dd2d69607cb4"
      },
      "source": [
        "plt.figure(1)  \n",
        "   \n",
        " # summarize history for accuracy  \n",
        "   \n",
        "plt.subplot(211)  \n",
        "plt.plot(history.history['accuracy'])  \n",
        "plt.plot(history.history['val_accuracy'])  \n",
        "plt.title('model accuracy')  \n",
        "plt.ylabel('accuracy')  \n",
        "plt.xlabel('epoch')  \n",
        "plt.legend(['train', 'val'], loc='upper left')  \n",
        "   \n",
        " # summarize history for loss  \n",
        "   \n",
        "plt.subplot(212)  \n",
        "plt.plot(history.history['loss'])  \n",
        "plt.plot(history.history['val_loss'])  \n",
        "plt.title('model loss')  \n",
        "plt.ylabel('loss')  \n",
        "plt.xlabel('epoch')  \n",
        "plt.legend(['train', 'val'], loc='upper left')  \n",
        "plt.show()"
      ],
      "execution_count": 31,
      "outputs": [
        {
          "output_type": "display_data",
          "data": {
            "image/png": "[encoded data removed]",
            "text/plain": [
              "<Figure size 432x288 with 2 Axes>"
            ]
          },
          "metadata": {
            "tags": [],
            "needs_background": "light"
          }
        }
      ]
    },
    {
      "cell_type": "code",
      "metadata": {
        "id": "f7zOsLXN51-v",
        "colab_type": "code",
        "colab": {}
      },
      "source": [
        "model_json = model.to_json()\n",
        "with open(\"model.json\", \"w\") as json_file:\n",
        "    json_file.write(model_json)"
      ],
      "execution_count": null,
      "outputs": []
    }
  ]
}