{
  "nbformat": 4,
  "nbformat_minor": 0,
  "metadata": {
    "colab": {
      "name": "Improved Model.ipynb",
      "provenance": [],
      "collapsed_sections": [],
      "machine_shape": "hm"
    },
    "kernelspec": {
      "name": "python3",
      "display_name": "Python 3"
    },
    "accelerator": "GPU"
  },
  "cells": [
    {
      "cell_type": "code",
      "metadata": {
        "id": "dShZMwfFFSFh",
        "colab_type": "code",
        "colab": {}
      },
      "source": [
        "!pip install -q kaggle"
      ],
      "execution_count": null,
      "outputs": []
    },
    {
      "cell_type": "code",
      "metadata": {
        "id": "ssf033yFFS3R",
        "colab_type": "code",
        "colab": {}
      },
      "source": [
        "!mkdir -p ~/.kaggle"
      ],
      "execution_count": null,
      "outputs": []
    },
    {
      "cell_type": "code",
      "metadata": {
        "id": "87T5BetZQYQv",
        "colab_type": "code",
        "colab": {}
      },
      "source": [
        "from google.colab import files\n",
        "files.upload()"
      ],
      "execution_count": null,
      "outputs": []
    },
    {
      "cell_type": "code",
      "metadata": {
        "id": "YOckP_sYQcda",
        "colab_type": "code",
        "colab": {}
      },
      "source": [
        "!cp kaggle.json ~/.kaggle/"
      ],
      "execution_count": null,
      "outputs": []
    },
    {
      "cell_type": "code",
      "metadata": {
        "id": "_F9FfyFSQl_5",
        "colab_type": "code",
        "colab": {}
      },
      "source": [
        "\n",
        "!chmod 600 ~/.kaggle/kaggle.json"
      ],
      "execution_count": null,
      "outputs": []
    },
    {
      "cell_type": "code",
      "metadata": {
        "id": "xalsFDNyQp66",
        "colab_type": "code",
        "colab": {
          "base_uri": "https://localhost:8080/",
          "height": 72
        },
        "outputId": "6f4db7a7-aa6e-4168-94fb-9ebc112412f3"
      },
      "source": [
        "!kaggle datasets download -d kmader/skin-cancer-mnist-ham10000"
      ],
      "execution_count": null,
      "outputs": [
        {
          "output_type": "stream",
          "text": [
            "Downloading skin-cancer-mnist-ham10000.zip to /content\n",
            "100% 5.19G/5.20G [02:07<00:00, 59.7MB/s]\n",
            "100% 5.20G/5.20G [02:07<00:00, 43.6MB/s]\n"
          ],
          "name": "stdout"
        }
      ]
    },
    {
      "cell_type": "code",
      "metadata": {
        "id": "XryjXIYhQ_gM",
        "colab_type": "code",
        "colab": {
          "base_uri": "https://localhost:8080/",
          "height": 35
        },
        "outputId": "7449bf95-c080-4e97-f84c-8f5c64428dde"
      },
      "source": [
        "!ls"
      ],
      "execution_count": null,
      "outputs": [
        {
          "output_type": "stream",
          "text": [
            "kaggle.json  sample_data  skin-cancer-mnist-ham10000.zip\n"
          ],
          "name": "stdout"
        }
      ]
    },
    {
      "cell_type": "code",
      "metadata": {
        "id": "DTcamtSiVmGn",
        "colab_type": "code",
        "colab": {}
      },
      "source": [
        "!unzip skin-cancer-mnist-ham10000.zip"
      ],
      "execution_count": null,
      "outputs": []
    },
    {
      "cell_type": "code",
      "metadata": {
        "id": "beJ_3jq4JkDD",
        "colab_type": "code",
        "colab": {
          "base_uri": "https://localhost:8080/",
          "height": 35
        },
        "outputId": "faa873ca-8437-4450-f6ac-6a2ec4e632e0"
      },
      "source": [
        "import pandas as pd\n",
        "import numpy as np\n",
        "#import keras\n",
        "#from keras import backend as K\n",
        "\n",
        "import tensorflow as tf\n",
        "\n",
        "from tensorflow.keras.layers import Dense, Dropout\n",
        "from tensorflow.keras.optimizers import Adam\n",
        "from tensorflow.keras.metrics import categorical_crossentropy\n",
        "from tensorflow.keras.preprocessing.image import ImageDataGenerator\n",
        "from tensorflow.keras.models import Model\n",
        "from tensorflow.keras.callbacks import EarlyStopping,ReduceLROnPlateau\n",
        "from tensorflow.keras.layers import Flatten,Dense,Dropout,BatchNormalization,Conv2D,MaxPooling2D\n",
        "from tensorflow.keras.utils import to_categorical,normalize\n",
        "from tensorflow.keras.models import Sequential\n",
        "from tensorflow.keras.metrics import Recall\n",
        "from keras import regularizers\n",
        "from glob import glob\n",
        "from sklearn.metrics import confusion_matrix\n",
        "from sklearn.model_selection import train_test_split\n",
        "import itertools\n",
        "import shutil\n",
        "import matplotlib.pyplot as plt\n",
        "%matplotlib inline\n"
      ],
      "execution_count": null,
      "outputs": [
        {
          "output_type": "stream",
          "text": [
            "Using TensorFlow backend.\n"
          ],
          "name": "stderr"
        }
      ]
    },
    {
      "cell_type": "code",
      "metadata": {
        "id": "kbg5pOhxOKbY",
        "colab_type": "code",
        "colab": {}
      },
      "source": [
        "import os\n",
        "imageid_path_dict = {os.path.splitext(os.path.basename(x))[0]: x\n",
        "                     for x in glob(os.path.join( '*', '*.jpg'))}\n",
        "\n",
        "lesion_type_dict = {\n",
        "    'nv': 'Melanocytic nevi',\n",
        "    'mel': 'Melanoma',\n",
        "    'bkl': 'Benign keratosis-like lesions ',\n",
        "    'bcc': 'Basal cell carcinoma',\n",
        "    'akiec': 'Actinic keratoses',\n",
        "    'vasc': 'Vascular lesions',\n",
        "    'df': 'Dermatofibroma'\n",
        "}"
      ],
      "execution_count": null,
      "outputs": []
    },
    {
      "cell_type": "markdown",
      "metadata": {
        "id": "XDgi3TR6nnC-",
        "colab_type": "text"
      },
      "source": [
        "Load The Dataset"
      ]
    },
    {
      "cell_type": "code",
      "metadata": {
        "id": "E_lXA7J8U2yi",
        "colab_type": "code",
        "colab": {
          "base_uri": "https://localhost:8080/",
          "height": 541
        },
        "outputId": "6582f1f9-03ad-489d-98b2-8e1a87d65b90"
      },
      "source": [
        "df = pd.read_csv(os.path.join('HAM10000_metadata.csv'))\n",
        "df['path'] = df['image_id'].map(imageid_path_dict.get)\n",
        "df['cell_type'] = df['dx'].map(lesion_type_dict.get) \n",
        "df['cell_type_idx'] = pd.Categorical(df['cell_type']).codes\n",
        "df.sample(10)"
      ],
      "execution_count": null,
      "outputs": [
        {
          "output_type": "execute_result",
          "data": {
            "text/html": [
              "<div>\n",
              "<style scoped>\n",
              "    .dataframe tbody tr th:only-of-type {\n",
              "        vertical-align: middle;\n",
              "    }\n",
              "\n",
              "    .dataframe tbody tr th {\n",
              "        vertical-align: top;\n",
              "    }\n",
              "\n",
              "    .dataframe thead th {\n",
              "        text-align: right;\n",
              "    }\n",
              "</style>\n",
              "<table border=\"1\" class=\"dataframe\">\n",
              "  <thead>\n",
              "    <tr style=\"text-align: right;\">\n",
              "      <th></th>\n",
              "      <th>lesion_id</th>\n",
              "      <th>image_id</th>\n",
              "      <th>dx</th>\n",
              "      <th>dx_type</th>\n",
              "      <th>age</th>\n",
              "      <th>sex</th>\n",
              "      <th>localization</th>\n",
              "      <th>path</th>\n",
              "      <th>cell_type</th>\n",
              "      <th>cell_type_idx</th>\n",
              "    </tr>\n",
              "  </thead>\n",
              "  <tbody>\n",
              "    <tr>\n",
              "      <th>9364</th>\n",
              "      <td>HAM_0007445</td>\n",
              "      <td>ISIC_0024734</td>\n",
              "      <td>nv</td>\n",
              "      <td>consensus</td>\n",
              "      <td>25.0</td>\n",
              "      <td>male</td>\n",
              "      <td>foot</td>\n",
              "      <td>HAM10000_images_part_1/ISIC_0024734.jpg</td>\n",
              "      <td>Melanocytic nevi</td>\n",
              "      <td>4</td>\n",
              "    </tr>\n",
              "    <tr>\n",
              "      <th>3958</th>\n",
              "      <td>HAM_0001500</td>\n",
              "      <td>ISIC_0025527</td>\n",
              "      <td>nv</td>\n",
              "      <td>follow_up</td>\n",
              "      <td>65.0</td>\n",
              "      <td>male</td>\n",
              "      <td>lower extremity</td>\n",
              "      <td>HAM10000_images_part_1/ISIC_0025527.jpg</td>\n",
              "      <td>Melanocytic nevi</td>\n",
              "      <td>4</td>\n",
              "    </tr>\n",
              "    <tr>\n",
              "      <th>958</th>\n",
              "      <td>HAM_0005898</td>\n",
              "      <td>ISIC_0033553</td>\n",
              "      <td>bkl</td>\n",
              "      <td>consensus</td>\n",
              "      <td>80.0</td>\n",
              "      <td>female</td>\n",
              "      <td>back</td>\n",
              "      <td>HAM10000_images_part_2/ISIC_0033553.jpg</td>\n",
              "      <td>Benign keratosis-like lesions</td>\n",
              "      <td>2</td>\n",
              "    </tr>\n",
              "    <tr>\n",
              "      <th>8440</th>\n",
              "      <td>HAM_0002298</td>\n",
              "      <td>ISIC_0031483</td>\n",
              "      <td>nv</td>\n",
              "      <td>histo</td>\n",
              "      <td>25.0</td>\n",
              "      <td>male</td>\n",
              "      <td>lower extremity</td>\n",
              "      <td>HAM10000_images_part_2/ISIC_0031483.jpg</td>\n",
              "      <td>Melanocytic nevi</td>\n",
              "      <td>4</td>\n",
              "    </tr>\n",
              "    <tr>\n",
              "      <th>6947</th>\n",
              "      <td>HAM_0006747</td>\n",
              "      <td>ISIC_0029254</td>\n",
              "      <td>nv</td>\n",
              "      <td>histo</td>\n",
              "      <td>50.0</td>\n",
              "      <td>male</td>\n",
              "      <td>face</td>\n",
              "      <td>HAM10000_images_part_1/ISIC_0029254.jpg</td>\n",
              "      <td>Melanocytic nevi</td>\n",
              "      <td>4</td>\n",
              "    </tr>\n",
              "    <tr>\n",
              "      <th>4659</th>\n",
              "      <td>HAM_0007154</td>\n",
              "      <td>ISIC_0024719</td>\n",
              "      <td>nv</td>\n",
              "      <td>follow_up</td>\n",
              "      <td>70.0</td>\n",
              "      <td>male</td>\n",
              "      <td>upper extremity</td>\n",
              "      <td>HAM10000_images_part_1/ISIC_0024719.jpg</td>\n",
              "      <td>Melanocytic nevi</td>\n",
              "      <td>4</td>\n",
              "    </tr>\n",
              "    <tr>\n",
              "      <th>1886</th>\n",
              "      <td>HAM_0000169</td>\n",
              "      <td>ISIC_0032960</td>\n",
              "      <td>mel</td>\n",
              "      <td>histo</td>\n",
              "      <td>NaN</td>\n",
              "      <td>male</td>\n",
              "      <td>face</td>\n",
              "      <td>HAM10000_images_part_2/ISIC_0032960.jpg</td>\n",
              "      <td>Melanoma</td>\n",
              "      <td>5</td>\n",
              "    </tr>\n",
              "    <tr>\n",
              "      <th>5593</th>\n",
              "      <td>HAM_0006504</td>\n",
              "      <td>ISIC_0031098</td>\n",
              "      <td>nv</td>\n",
              "      <td>follow_up</td>\n",
              "      <td>55.0</td>\n",
              "      <td>female</td>\n",
              "      <td>lower extremity</td>\n",
              "      <td>HAM10000_images_part_2/ISIC_0031098.jpg</td>\n",
              "      <td>Melanocytic nevi</td>\n",
              "      <td>4</td>\n",
              "    </tr>\n",
              "    <tr>\n",
              "      <th>7271</th>\n",
              "      <td>HAM_0005127</td>\n",
              "      <td>ISIC_0026384</td>\n",
              "      <td>nv</td>\n",
              "      <td>histo</td>\n",
              "      <td>55.0</td>\n",
              "      <td>female</td>\n",
              "      <td>chest</td>\n",
              "      <td>HAM10000_images_part_1/ISIC_0026384.jpg</td>\n",
              "      <td>Melanocytic nevi</td>\n",
              "      <td>4</td>\n",
              "    </tr>\n",
              "    <tr>\n",
              "      <th>8253</th>\n",
              "      <td>HAM_0003833</td>\n",
              "      <td>ISIC_0031149</td>\n",
              "      <td>nv</td>\n",
              "      <td>histo</td>\n",
              "      <td>75.0</td>\n",
              "      <td>female</td>\n",
              "      <td>lower extremity</td>\n",
              "      <td>HAM10000_images_part_2/ISIC_0031149.jpg</td>\n",
              "      <td>Melanocytic nevi</td>\n",
              "      <td>4</td>\n",
              "    </tr>\n",
              "  </tbody>\n",
              "</table>\n",
              "</div>"
            ],
            "text/plain": [
              "        lesion_id      image_id  ...                       cell_type cell_type_idx\n",
              "9364  HAM_0007445  ISIC_0024734  ...                Melanocytic nevi             4\n",
              "3958  HAM_0001500  ISIC_0025527  ...                Melanocytic nevi             4\n",
              "958   HAM_0005898  ISIC_0033553  ...  Benign keratosis-like lesions              2\n",
              "8440  HAM_0002298  ISIC_0031483  ...                Melanocytic nevi             4\n",
              "6947  HAM_0006747  ISIC_0029254  ...                Melanocytic nevi             4\n",
              "4659  HAM_0007154  ISIC_0024719  ...                Melanocytic nevi             4\n",
              "1886  HAM_0000169  ISIC_0032960  ...                        Melanoma             5\n",
              "5593  HAM_0006504  ISIC_0031098  ...                Melanocytic nevi             4\n",
              "7271  HAM_0005127  ISIC_0026384  ...                Melanocytic nevi             4\n",
              "8253  HAM_0003833  ISIC_0031149  ...                Melanocytic nevi             4\n",
              "\n",
              "[10 rows x 10 columns]"
            ]
          },
          "metadata": {
            "tags": []
          },
          "execution_count": 11
        }
      ]
    },
    {
      "cell_type": "markdown",
      "metadata": {
        "id": "NrPR1RGonq5W",
        "colab_type": "text"
      },
      "source": [
        "EDA"
      ]
    },
    {
      "cell_type": "code",
      "metadata": {
        "id": "gKBh228y3iuZ",
        "colab_type": "code",
        "colab": {
          "base_uri": "https://localhost:8080/",
          "height": 425
        },
        "outputId": "b6f04ce9-03bd-4694-8035-0d5a86977e47"
      },
      "source": [
        "import seaborn as sns\n",
        "sns.catplot(x=\"dx_type\", kind=\"count\", palette=\"magma\", data=df);"
      ],
      "execution_count": null,
      "outputs": [
        {
          "output_type": "stream",
          "text": [
            "/usr/local/lib/python3.6/dist-packages/statsmodels/tools/_testing.py:19: FutureWarning: pandas.util.testing is deprecated. Use the functions in the public API at pandas.testing instead.\n",
            "  import pandas.util.testing as tm\n"
          ],
          "name": "stderr"
        },
        {
          "output_type": "display_data",
          "data": {
            "image/png": "[encoded data removed]",
            "text/plain": [
              "<Figure size 360x360 with 1 Axes>"
            ]
          },
          "metadata": {
            "tags": [],
            "needs_background": "light"
          }
        }
      ]
    },
    {
      "cell_type": "code",
      "metadata": {
        "id": "scR3SYj2AWAc",
        "colab_type": "code",
        "colab": {
          "base_uri": "https://localhost:8080/",
          "height": 369
        },
        "outputId": "4bb4ba42-99a5-4e64-914e-008d0323f405"
      },
      "source": [
        "sns.catplot(x=\"dx\", y=\"age\", kind=\"box\", data=df);"
      ],
      "execution_count": null,
      "outputs": [
        {
          "output_type": "display_data",
          "data": {
            "image/png": "[encoded data removed]",
            "text/plain": [
              "<Figure size 360x360 with 1 Axes>"
            ]
          },
          "metadata": {
            "tags": [],
            "needs_background": "light"
          }
        }
      ]
    },
    {
      "cell_type": "code",
      "metadata": {
        "id": "zS4VPt8z-v_F",
        "colab_type": "code",
        "colab": {
          "base_uri": "https://localhost:8080/",
          "height": 421
        },
        "outputId": "389a8121-0e2d-4d45-da57-66cd3c2c1b69"
      },
      "source": [
        "df['cell_type'].value_counts().plot(kind='bar', color = ['blue','green','violet','pink','black','orange','grey','brown'])"
      ],
      "execution_count": null,
      "outputs": [
        {
          "output_type": "execute_result",
          "data": {
            "text/plain": [
              "<matplotlib.axes._subplots.AxesSubplot at 0x7f017c90b5f8>"
            ]
          },
          "metadata": {
            "tags": []
          },
          "execution_count": 14
        },
        {
          "output_type": "display_data",
          "data": {
            "image/png": "[encoded data removed]",
            "text/plain": [
              "<Figure size 432x288 with 1 Axes>"
            ]
          },
          "metadata": {
            "tags": [],
            "needs_background": "light"
          }
        }
      ]
    },
    {
      "cell_type": "markdown",
      "metadata": {
        "id": "W2LPoYtRnswM",
        "colab_type": "text"
      },
      "source": [
        "Check Missing Values"
      ]
    },
    {
      "cell_type": "code",
      "metadata": {
        "id": "o3hMrQN-U7Cw",
        "colab_type": "code",
        "colab": {
          "base_uri": "https://localhost:8080/",
          "height": 217
        },
        "outputId": "18c5f21e-5818-4ebe-983a-8aa467e20a7d"
      },
      "source": [
        "df.isnull().sum()"
      ],
      "execution_count": null,
      "outputs": [
        {
          "output_type": "execute_result",
          "data": {
            "text/plain": [
              "lesion_id         0\n",
              "image_id          0\n",
              "dx                0\n",
              "dx_type           0\n",
              "age              57\n",
              "sex               0\n",
              "localization      0\n",
              "path              0\n",
              "cell_type         0\n",
              "cell_type_idx     0\n",
              "dtype: int64"
            ]
          },
          "metadata": {
            "tags": []
          },
          "execution_count": 15
        }
      ]
    },
    {
      "cell_type": "markdown",
      "metadata": {
        "id": "6iqH9p61nvZi",
        "colab_type": "text"
      },
      "source": [
        "Fill The Missing Values"
      ]
    },
    {
      "cell_type": "code",
      "metadata": {
        "id": "an4i2PE4U9ls",
        "colab_type": "code",
        "colab": {}
      },
      "source": [
        "df['age'].fillna((df['age'].median()), inplace=True)"
      ],
      "execution_count": null,
      "outputs": []
    },
    {
      "cell_type": "code",
      "metadata": {
        "id": "Sx6y0zWqIeJn",
        "colab_type": "code",
        "colab": {
          "base_uri": "https://localhost:8080/",
          "height": 1000
        },
        "outputId": "1fa8aa77-0c19-4e32-e284-8f7fc9b692f1"
      },
      "source": [
        "from PIL import Image\n",
        "df['image'] = df['path'].map(lambda x: np.asarray(Image.open(x).resize((100, 75))))\n",
        "df"
      ],
      "execution_count": null,
      "outputs": [
        {
          "output_type": "execute_result",
          "data": {
            "text/html": [
              "<div>\n",
              "<style scoped>\n",
              "    .dataframe tbody tr th:only-of-type {\n",
              "        vertical-align: middle;\n",
              "    }\n",
              "\n",
              "    .dataframe tbody tr th {\n",
              "        vertical-align: top;\n",
              "    }\n",
              "\n",
              "    .dataframe thead th {\n",
              "        text-align: right;\n",
              "    }\n",
              "</style>\n",
              "<table border=\"1\" class=\"dataframe\">\n",
              "  <thead>\n",
              "    <tr style=\"text-align: right;\">\n",
              "      <th></th>\n",
              "      <th>lesion_id</th>\n",
              "      <th>image_id</th>\n",
              "      <th>dx</th>\n",
              "      <th>dx_type</th>\n",
              "      <th>age</th>\n",
              "      <th>sex</th>\n",
              "      <th>localization</th>\n",
              "      <th>path</th>\n",
              "      <th>cell_type</th>\n",
              "      <th>cell_type_idx</th>\n",
              "      <th>image</th>\n",
              "    </tr>\n",
              "  </thead>\n",
              "  <tbody>\n",
              "    <tr>\n",
              "      <th>0</th>\n",
              "      <td>HAM_0000118</td>\n",
              "      <td>ISIC_0027419</td>\n",
              "      <td>bkl</td>\n",
              "      <td>histo</td>\n",
              "      <td>80.0</td>\n",
              "      <td>male</td>\n",
              "      <td>scalp</td>\n",
              "      <td>HAM10000_images_part_1/ISIC_0027419.jpg</td>\n",
              "      <td>Benign keratosis-like lesions</td>\n",
              "      <td>2</td>\n",
              "      <td>[[[190, 153, 194], [192, 154, 196], [191, 153,...</td>\n",
              "    </tr>\n",
              "    <tr>\n",
              "      <th>1</th>\n",
              "      <td>HAM_0000118</td>\n",
              "      <td>ISIC_0025030</td>\n",
              "      <td>bkl</td>\n",
              "      <td>histo</td>\n",
              "      <td>80.0</td>\n",
              "      <td>male</td>\n",
              "      <td>scalp</td>\n",
              "      <td>HAM10000_images_part_1/ISIC_0025030.jpg</td>\n",
              "      <td>Benign keratosis-like lesions</td>\n",
              "      <td>2</td>\n",
              "      <td>[[[23, 13, 22], [24, 14, 24], [25, 14, 28], [3...</td>\n",
              "    </tr>\n",
              "    <tr>\n",
              "      <th>2</th>\n",
              "      <td>HAM_0002730</td>\n",
              "      <td>ISIC_0026769</td>\n",
              "      <td>bkl</td>\n",
              "      <td>histo</td>\n",
              "      <td>80.0</td>\n",
              "      <td>male</td>\n",
              "      <td>scalp</td>\n",
              "      <td>HAM10000_images_part_1/ISIC_0026769.jpg</td>\n",
              "      <td>Benign keratosis-like lesions</td>\n",
              "      <td>2</td>\n",
              "      <td>[[[185, 127, 137], [189, 133, 147], [194, 136,...</td>\n",
              "    </tr>\n",
              "    <tr>\n",
              "      <th>3</th>\n",
              "      <td>HAM_0002730</td>\n",
              "      <td>ISIC_0025661</td>\n",
              "      <td>bkl</td>\n",
              "      <td>histo</td>\n",
              "      <td>80.0</td>\n",
              "      <td>male</td>\n",
              "      <td>scalp</td>\n",
              "      <td>HAM10000_images_part_1/ISIC_0025661.jpg</td>\n",
              "      <td>Benign keratosis-like lesions</td>\n",
              "      <td>2</td>\n",
              "      <td>[[[24, 11, 17], [26, 13, 22], [38, 21, 32], [5...</td>\n",
              "    </tr>\n",
              "    <tr>\n",
              "      <th>4</th>\n",
              "      <td>HAM_0001466</td>\n",
              "      <td>ISIC_0031633</td>\n",
              "      <td>bkl</td>\n",
              "      <td>histo</td>\n",
              "      <td>75.0</td>\n",
              "      <td>male</td>\n",
              "      <td>ear</td>\n",
              "      <td>HAM10000_images_part_2/ISIC_0031633.jpg</td>\n",
              "      <td>Benign keratosis-like lesions</td>\n",
              "      <td>2</td>\n",
              "      <td>[[[134, 90, 113], [147, 102, 125], [159, 115, ...</td>\n",
              "    </tr>\n",
              "    <tr>\n",
              "      <th>...</th>\n",
              "      <td>...</td>\n",
              "      <td>...</td>\n",
              "      <td>...</td>\n",
              "      <td>...</td>\n",
              "      <td>...</td>\n",
              "      <td>...</td>\n",
              "      <td>...</td>\n",
              "      <td>...</td>\n",
              "      <td>...</td>\n",
              "      <td>...</td>\n",
              "      <td>...</td>\n",
              "    </tr>\n",
              "    <tr>\n",
              "      <th>10010</th>\n",
              "      <td>HAM_0002867</td>\n",
              "      <td>ISIC_0033084</td>\n",
              "      <td>akiec</td>\n",
              "      <td>histo</td>\n",
              "      <td>40.0</td>\n",
              "      <td>male</td>\n",
              "      <td>abdomen</td>\n",
              "      <td>HAM10000_images_part_2/ISIC_0033084.jpg</td>\n",
              "      <td>Actinic keratoses</td>\n",
              "      <td>0</td>\n",
              "      <td>[[[155, 137, 148], [154, 136, 147], [151, 134,...</td>\n",
              "    </tr>\n",
              "    <tr>\n",
              "      <th>10011</th>\n",
              "      <td>HAM_0002867</td>\n",
              "      <td>ISIC_0033550</td>\n",
              "      <td>akiec</td>\n",
              "      <td>histo</td>\n",
              "      <td>40.0</td>\n",
              "      <td>male</td>\n",
              "      <td>abdomen</td>\n",
              "      <td>HAM10000_images_part_2/ISIC_0033550.jpg</td>\n",
              "      <td>Actinic keratoses</td>\n",
              "      <td>0</td>\n",
              "      <td>[[[5, 6, 4], [6, 7, 4], [7, 8, 6], [7, 7, 5], ...</td>\n",
              "    </tr>\n",
              "    <tr>\n",
              "      <th>10012</th>\n",
              "      <td>HAM_0002867</td>\n",
              "      <td>ISIC_0033536</td>\n",
              "      <td>akiec</td>\n",
              "      <td>histo</td>\n",
              "      <td>40.0</td>\n",
              "      <td>male</td>\n",
              "      <td>abdomen</td>\n",
              "      <td>HAM10000_images_part_2/ISIC_0033536.jpg</td>\n",
              "      <td>Actinic keratoses</td>\n",
              "      <td>0</td>\n",
              "      <td>[[[112, 102, 105], [127, 116, 117], [141, 127,...</td>\n",
              "    </tr>\n",
              "    <tr>\n",
              "      <th>10013</th>\n",
              "      <td>HAM_0000239</td>\n",
              "      <td>ISIC_0032854</td>\n",
              "      <td>akiec</td>\n",
              "      <td>histo</td>\n",
              "      <td>80.0</td>\n",
              "      <td>male</td>\n",
              "      <td>face</td>\n",
              "      <td>HAM10000_images_part_2/ISIC_0032854.jpg</td>\n",
              "      <td>Actinic keratoses</td>\n",
              "      <td>0</td>\n",
              "      <td>[[[159, 122, 146], [159, 123, 141], [154, 112,...</td>\n",
              "    </tr>\n",
              "    <tr>\n",
              "      <th>10014</th>\n",
              "      <td>HAM_0003521</td>\n",
              "      <td>ISIC_0032258</td>\n",
              "      <td>mel</td>\n",
              "      <td>histo</td>\n",
              "      <td>70.0</td>\n",
              "      <td>female</td>\n",
              "      <td>back</td>\n",
              "      <td>HAM10000_images_part_2/ISIC_0032258.jpg</td>\n",
              "      <td>Melanoma</td>\n",
              "      <td>5</td>\n",
              "      <td>[[[177, 147, 133], [176, 143, 132], [177, 143,...</td>\n",
              "    </tr>\n",
              "  </tbody>\n",
              "</table>\n",
              "<p>10015 rows × 11 columns</p>\n",
              "</div>"
            ],
            "text/plain": [
              "         lesion_id  ...                                              image\n",
              "0      HAM_0000118  ...  [[[190, 153, 194], [192, 154, 196], [191, 153,...\n",
              "1      HAM_0000118  ...  [[[23, 13, 22], [24, 14, 24], [25, 14, 28], [3...\n",
              "2      HAM_0002730  ...  [[[185, 127, 137], [189, 133, 147], [194, 136,...\n",
              "3      HAM_0002730  ...  [[[24, 11, 17], [26, 13, 22], [38, 21, 32], [5...\n",
              "4      HAM_0001466  ...  [[[134, 90, 113], [147, 102, 125], [159, 115, ...\n",
              "...            ...  ...                                                ...\n",
              "10010  HAM_0002867  ...  [[[155, 137, 148], [154, 136, 147], [151, 134,...\n",
              "10011  HAM_0002867  ...  [[[5, 6, 4], [6, 7, 4], [7, 8, 6], [7, 7, 5], ...\n",
              "10012  HAM_0002867  ...  [[[112, 102, 105], [127, 116, 117], [141, 127,...\n",
              "10013  HAM_0000239  ...  [[[159, 122, 146], [159, 123, 141], [154, 112,...\n",
              "10014  HAM_0003521  ...  [[[177, 147, 133], [176, 143, 132], [177, 143,...\n",
              "\n",
              "[10015 rows x 11 columns]"
            ]
          },
          "metadata": {
            "tags": []
          },
          "execution_count": 17
        }
      ]
    },
    {
      "cell_type": "markdown",
      "metadata": {
        "id": "yfov_xFTnzPb",
        "colab_type": "text"
      },
      "source": [
        "Split The Data"
      ]
    },
    {
      "cell_type": "code",
      "metadata": {
        "id": "YFEbKNCGWeEw",
        "colab_type": "code",
        "colab": {
          "base_uri": "https://localhost:8080/",
          "height": 90
        },
        "outputId": "3b480fd1-6b16-41fb-99fb-39f7eae6609f"
      },
      "source": [
        "features = df[\"image\"]\n",
        "target = df[\"cell_type_idx\"]\n",
        "\n",
        "X_train, X_test, y_train, y_test = train_test_split(features, target, test_size = 0.1, random_state = 999)\n",
        "X_train, X_val, y_train, y_val = train_test_split(X_train, y_train, test_size = 0.165, random_state = 999)\n",
        "print(\"Shape of entire dataset: {}\".format(str(features.shape)))\n",
        "print(\"Shape of train data: {}\".format(str(X_train.shape)))\n",
        "print(\"Shape of test data: {}\".format(str(X_test.shape)))\n",
        "print(\"Shape of val data: {}\".format(str(X_val.shape)))"
      ],
      "execution_count": null,
      "outputs": [
        {
          "output_type": "stream",
          "text": [
            "Shape of entire dataset: (10015,)\n",
            "Shape of train data: (7525,)\n",
            "Shape of test data: (1002,)\n",
            "Shape of val data: (1488,)\n"
          ],
          "name": "stdout"
        }
      ]
    },
    {
      "cell_type": "code",
      "metadata": {
        "id": "C2TUpLlf-i1L",
        "colab_type": "code",
        "colab": {}
      },
      "source": [
        "l = [\"train\",\"val\",\"test\"]\n",
        "\n",
        "for x in l:\n",
        "    globals()[\"X_{}\".format(x)] = np.asarray(globals()[\"X_{}\".format(x)].tolist())\n",
        "    globals()[\"X_{}_mean\".format(x)] = np.mean(globals()[\"X_{}\".format(x)])\n",
        "    globals()[\"X_{}_std\".format(x)] = np.std(globals()[\"X_{}\".format(x)])\n",
        "    globals()[\"X_{}\".format(x)] = (globals()[\"X_{}\".format(x)]-globals()[\"X_{}_mean\".format(x)])/globals()[\"X_{}_std\".format(x)]"
      ],
      "execution_count": null,
      "outputs": []
    },
    {
      "cell_type": "code",
      "metadata": {
        "id": "GkHXCvtX-nvU",
        "colab_type": "code",
        "colab": {}
      },
      "source": [
        "# Perform one-hot encoding on the labels\n",
        "y_train = to_categorical(y_train, num_classes = 7)\n",
        "y_test = to_categorical(y_test, num_classes = 7)\n",
        "y_val = to_categorical(y_val, num_classes = 7)"
      ],
      "execution_count": null,
      "outputs": []
    },
    {
      "cell_type": "code",
      "metadata": {
        "id": "dwEJr7Rm-trn",
        "colab_type": "code",
        "colab": {}
      },
      "source": [
        "# Reshape image in 3 dimensions (height = 75px, width = 100px , canal = 3)\n",
        "X_train = X_train.reshape(X_train.shape[0], *(75, 100, 3))\n",
        "X_test = X_test.reshape(X_test.shape[0], *(75, 100, 3))\n",
        "X_val = X_val.reshape(X_val.shape[0], *(75, 100, 3))"
      ],
      "execution_count": null,
      "outputs": []
    },
    {
      "cell_type": "code",
      "metadata": {
        "id": "S1Np66efZ6Ww",
        "colab_type": "code",
        "colab": {}
      },
      "source": [
        "input_shape = (75, 100, 3)\n",
        "num_classes = 7"
      ],
      "execution_count": null,
      "outputs": []
    },
    {
      "cell_type": "markdown",
      "metadata": {
        "id": "KqisTIpcoEXG",
        "colab_type": "text"
      },
      "source": [
        "Build Model CNN"
      ]
    },
    {
      "cell_type": "code",
      "metadata": {
        "id": "PEFzLN5dzfXY",
        "colab_type": "code",
        "colab": {}
      },
      "source": [
        "model = tf.keras.models.Sequential([\n",
        "    tf.keras.layers.Conv2D(64, kernel_size = (3,3), activation='relu', input_shape=input_shape ,padding='same'),\n",
        "    tf.keras.layers.BatchNormalization(),\n",
        "    tf.keras.layers.Conv2D(64, kernel_size = (3,3), activation='relu', input_shape=input_shape ,padding='same'),\n",
        "    tf.keras.layers.MaxPooling2D(2,2),\n",
        "    tf.keras.layers.Conv2D(128, kernel_size = (3,3), activation='relu', input_shape=input_shape ,padding='same'),\n",
        "    tf.keras.layers.BatchNormalization(),\n",
        "    tf.keras.layers.Conv2D(128, kernel_size = (3,3), activation='relu', input_shape=input_shape ,padding='same'),\n",
        "    tf.keras.layers.MaxPooling2D(2,2),\n",
        "    tf.keras.layers.Conv2D(256, kernel_size = (3,3), activation='relu', input_shape=input_shape ,padding='same'),\n",
        "    tf.keras.layers.BatchNormalization(),\n",
        "    tf.keras.layers.Conv2D(256, kernel_size = (3,3), activation='relu', input_shape=input_shape ,padding='same'),\n",
        "    tf.keras.layers.MaxPooling2D(2,2),\n",
        "    # Flatten the results to feed into a DNN\n",
        "    tf.keras.layers.Flatten(), \n",
        "    tf.keras.layers.Dropout(0.1),\n",
        "    tf.keras.layers.Dense(512, activation='relu'), \n",
        "    tf.keras.layers.BatchNormalization(),\n",
        "    tf.keras.layers.Dense(7, activation='softmax'), \n",
        "  \n",
        "])"
      ],
      "execution_count": null,
      "outputs": []
    },
    {
      "cell_type": "code",
      "metadata": {
        "id": "Y9ElQxUmi-V-",
        "colab_type": "code",
        "colab": {}
      },
      "source": [
        "from tensorflow.keras.optimizers import RMSprop\n",
        "\n",
        "model.compile(optimizer='adam',\n",
        "              loss='categorical_crossentropy',\n",
        "              metrics = ['accuracy'])"
      ],
      "execution_count": null,
      "outputs": []
    },
    {
      "cell_type": "markdown",
      "metadata": {
        "id": "wmtmM7WLoHq8",
        "colab_type": "text"
      },
      "source": [
        "Reviewing CNN model"
      ]
    },
    {
      "cell_type": "code",
      "metadata": {
        "id": "5sp2h2PzW7Ah",
        "colab_type": "code",
        "colab": {
          "base_uri": "https://localhost:8080/",
          "height": 781
        },
        "outputId": "4dc2ec3f-97fe-412e-f258-9bf4c31cd85b"
      },
      "source": [
        "\n",
        "model.summary()"
      ],
      "execution_count": null,
      "outputs": [
        {
          "output_type": "stream",
          "text": [
            "Model: \"sequential\"\n",
            "_________________________________________________________________\n",
            "Layer (type)                 Output Shape              Param #   \n",
            "=================================================================\n",
            "conv2d (Conv2D)              (None, 75, 100, 64)       1792      \n",
            "_________________________________________________________________\n",
            "batch_normalization (BatchNo (None, 75, 100, 64)       256       \n",
            "_________________________________________________________________\n",
            "conv2d_1 (Conv2D)            (None, 75, 100, 64)       36928     \n",
            "_________________________________________________________________\n",
            "max_pooling2d (MaxPooling2D) (None, 37, 50, 64)        0         \n",
            "_________________________________________________________________\n",
            "conv2d_2 (Conv2D)            (None, 37, 50, 128)       73856     \n",
            "_________________________________________________________________\n",
            "batch_normalization_1 (Batch (None, 37, 50, 128)       512       \n",
            "_________________________________________________________________\n",
            "conv2d_3 (Conv2D)            (None, 37, 50, 128)       147584    \n",
            "_________________________________________________________________\n",
            "max_pooling2d_1 (MaxPooling2 (None, 18, 25, 128)       0         \n",
            "_________________________________________________________________\n",
            "conv2d_4 (Conv2D)            (None, 18, 25, 256)       295168    \n",
            "_________________________________________________________________\n",
            "batch_normalization_2 (Batch (None, 18, 25, 256)       1024      \n",
            "_________________________________________________________________\n",
            "conv2d_5 (Conv2D)            (None, 18, 25, 256)       590080    \n",
            "_________________________________________________________________\n",
            "max_pooling2d_2 (MaxPooling2 (None, 9, 12, 256)        0         \n",
            "_________________________________________________________________\n",
            "flatten (Flatten)            (None, 27648)             0         \n",
            "_________________________________________________________________\n",
            "dropout (Dropout)            (None, 27648)             0         \n",
            "_________________________________________________________________\n",
            "dense (Dense)                (None, 512)               14156288  \n",
            "_________________________________________________________________\n",
            "batch_normalization_3 (Batch (None, 512)               2048      \n",
            "_________________________________________________________________\n",
            "dense_1 (Dense)              (None, 7)                 3591      \n",
            "=================================================================\n",
            "Total params: 15,309,127\n",
            "Trainable params: 15,307,207\n",
            "Non-trainable params: 1,920\n",
            "_________________________________________________________________\n"
          ],
          "name": "stdout"
        }
      ]
    },
    {
      "cell_type": "code",
      "metadata": {
        "id": "Vr0cC_mEfZWS",
        "colab_type": "code",
        "colab": {}
      },
      "source": [
        "data_generator=ImageDataGenerator(rotation_range=20, # rotate the image 20 degrees\n",
        "                               width_shift_range=0.10, # Shift the pic width by a max of 5%\n",
        "                               height_shift_range=0.10, # Shift the pic height by a max of 5%\n",
        "                               rescale=1/255, # Rescale the image by normalzing it.\n",
        "                               shear_range=0.1, # Shear means cutting away part of the image (max 10%)\n",
        "                               zoom_range=0.1, # Zoom in by 10% max\n",
        "                               horizontal_flip=True,\n",
        "                               vertical_flip=True,\n",
        "                               fill_mode='nearest')"
      ],
      "execution_count": null,
      "outputs": []
    },
    {
      "cell_type": "code",
      "metadata": {
        "id": "H-K-9SAKqgKr",
        "colab_type": "code",
        "colab": {}
      },
      "source": [
        "data_generator.fit(X_train)"
      ],
      "execution_count": null,
      "outputs": []
    },
    {
      "cell_type": "markdown",
      "metadata": {
        "id": "h5KlRQGOoS0q",
        "colab_type": "text"
      },
      "source": [
        "Training CNN"
      ]
    },
    {
      "cell_type": "code",
      "metadata": {
        "colab_type": "code",
        "id": "5LVs_MxjKbqU",
        "colab": {
          "base_uri": "https://localhost:8080/",
          "height": 1000
        },
        "outputId": "90cee597-9c6a-4cd4-a748-67e6a69152a9"
      },
      "source": [
        "\n",
        "\n",
        "checkpointer = tf.keras.callbacks.ModelCheckpoint(filepath = 'modelb.h5', verbose = 1, save_best_only = True)\n",
        "\n",
        "history = model.fit(X_train,y_train,\n",
        "        batch_size = 32,\n",
        "        epochs=25,\n",
        "        validation_data=(X_val, y_val),\n",
        "        callbacks = [checkpointer],\n",
        "        verbose=2, shuffle=True)"
      ],
      "execution_count": null,
      "outputs": [
        {
          "output_type": "stream",
          "text": [
            "Epoch 1/25\n",
            "\n",
            "Epoch 00001: val_loss improved from inf to 0.88694, saving model to modeli.h5\n",
            "236/236 - 9s - loss: 1.0830 - accuracy: 0.6473 - val_loss: 0.8869 - val_accuracy: 0.7050\n",
            "Epoch 2/25\n",
            "\n",
            "Epoch 00002: val_loss improved from 0.88694 to 0.82731, saving model to modeli.h5\n",
            "236/236 - 8s - loss: 0.8463 - accuracy: 0.6957 - val_loss: 0.8273 - val_accuracy: 0.7130\n",
            "Epoch 3/25\n",
            "\n",
            "Epoch 00003: val_loss did not improve from 0.82731\n",
            "236/236 - 8s - loss: 0.7790 - accuracy: 0.7102 - val_loss: 1.0865 - val_accuracy: 0.6573\n",
            "Epoch 4/25\n",
            "\n",
            "Epoch 00004: val_loss did not improve from 0.82731\n",
            "236/236 - 8s - loss: 0.7269 - accuracy: 0.7289 - val_loss: 0.8714 - val_accuracy: 0.6956\n",
            "Epoch 5/25\n",
            "\n",
            "Epoch 00005: val_loss improved from 0.82731 to 0.82448, saving model to modeli.h5\n",
            "236/236 - 8s - loss: 0.8060 - accuracy: 0.7102 - val_loss: 0.8245 - val_accuracy: 0.7097\n",
            "Epoch 6/25\n",
            "\n",
            "Epoch 00006: val_loss improved from 0.82448 to 0.75838, saving model to modeli.h5\n",
            "236/236 - 8s - loss: 0.7480 - accuracy: 0.7270 - val_loss: 0.7584 - val_accuracy: 0.7285\n",
            "Epoch 7/25\n",
            "\n",
            "Epoch 00007: val_loss improved from 0.75838 to 0.73316, saving model to modeli.h5\n",
            "236/236 - 8s - loss: 0.7014 - accuracy: 0.7385 - val_loss: 0.7332 - val_accuracy: 0.7446\n",
            "Epoch 8/25\n",
            "\n",
            "Epoch 00008: val_loss did not improve from 0.73316\n",
            "236/236 - 8s - loss: 0.6597 - accuracy: 0.7524 - val_loss: 0.7562 - val_accuracy: 0.7191\n",
            "Epoch 9/25\n",
            "\n",
            "Epoch 00009: val_loss improved from 0.73316 to 0.69435, saving model to modeli.h5\n",
            "236/236 - 8s - loss: 0.6204 - accuracy: 0.7702 - val_loss: 0.6944 - val_accuracy: 0.7460\n",
            "Epoch 10/25\n",
            "\n",
            "Epoch 00010: val_loss did not improve from 0.69435\n",
            "236/236 - 8s - loss: 0.5988 - accuracy: 0.7759 - val_loss: 0.8010 - val_accuracy: 0.7426\n",
            "Epoch 11/25\n",
            "\n",
            "Epoch 00011: val_loss did not improve from 0.69435\n",
            "236/236 - 8s - loss: 0.6082 - accuracy: 0.7758 - val_loss: 1.0191 - val_accuracy: 0.6586\n",
            "Epoch 12/25\n",
            "\n",
            "Epoch 00012: val_loss did not improve from 0.69435\n",
            "236/236 - 8s - loss: 0.5724 - accuracy: 0.7843 - val_loss: 0.7605 - val_accuracy: 0.7392\n",
            "Epoch 13/25\n",
            "\n",
            "Epoch 00013: val_loss did not improve from 0.69435\n",
            "236/236 - 8s - loss: 0.5243 - accuracy: 0.8048 - val_loss: 0.7350 - val_accuracy: 0.7587\n",
            "Epoch 14/25\n",
            "\n",
            "Epoch 00014: val_loss did not improve from 0.69435\n",
            "236/236 - 8s - loss: 0.5777 - accuracy: 0.7874 - val_loss: 0.9532 - val_accuracy: 0.6774\n",
            "Epoch 15/25\n",
            "\n",
            "Epoch 00015: val_loss did not improve from 0.69435\n",
            "236/236 - 8s - loss: 0.5718 - accuracy: 0.7886 - val_loss: 0.7557 - val_accuracy: 0.7379\n",
            "Epoch 16/25\n",
            "\n",
            "Epoch 00016: val_loss did not improve from 0.69435\n",
            "236/236 - 8s - loss: 0.5067 - accuracy: 0.8102 - val_loss: 0.7792 - val_accuracy: 0.7513\n",
            "Epoch 17/25\n",
            "\n",
            "Epoch 00017: val_loss did not improve from 0.69435\n",
            "236/236 - 8s - loss: 0.5736 - accuracy: 0.7934 - val_loss: 1.0413 - val_accuracy: 0.6573\n",
            "Epoch 18/25\n",
            "\n",
            "Epoch 00018: val_loss did not improve from 0.69435\n",
            "236/236 - 8s - loss: 0.6242 - accuracy: 0.7643 - val_loss: 0.7416 - val_accuracy: 0.7419\n",
            "Epoch 19/25\n",
            "\n",
            "Epoch 00019: val_loss did not improve from 0.69435\n",
            "236/236 - 8s - loss: 0.5209 - accuracy: 0.8073 - val_loss: 0.8678 - val_accuracy: 0.6808\n",
            "Epoch 20/25\n",
            "\n",
            "Epoch 00020: val_loss improved from 0.69435 to 0.69223, saving model to modeli.h5\n",
            "236/236 - 8s - loss: 0.4685 - accuracy: 0.8263 - val_loss: 0.6922 - val_accuracy: 0.7587\n",
            "Epoch 21/25\n",
            "\n",
            "Epoch 00021: val_loss did not improve from 0.69223\n",
            "236/236 - 8s - loss: 0.4901 - accuracy: 0.8183 - val_loss: 0.7589 - val_accuracy: 0.7137\n",
            "Epoch 22/25\n",
            "\n",
            "Epoch 00022: val_loss did not improve from 0.69223\n",
            "236/236 - 8s - loss: 0.4147 - accuracy: 0.8427 - val_loss: 0.9338 - val_accuracy: 0.6606\n",
            "Epoch 23/25\n",
            "\n",
            "Epoch 00023: val_loss did not improve from 0.69223\n",
            "236/236 - 8s - loss: 0.3452 - accuracy: 0.8750 - val_loss: 0.7813 - val_accuracy: 0.7601\n",
            "Epoch 24/25\n",
            "\n",
            "Epoch 00024: val_loss did not improve from 0.69223\n",
            "236/236 - 8s - loss: 0.2926 - accuracy: 0.8922 - val_loss: 0.8746 - val_accuracy: 0.7319\n",
            "Epoch 25/25\n",
            "\n",
            "Epoch 00025: val_loss did not improve from 0.69223\n",
            "236/236 - 8s - loss: 0.2500 - accuracy: 0.9060 - val_loss: 0.8564 - val_accuracy: 0.7601\n"
          ],
          "name": "stdout"
        }
      ]
    },
    {
      "cell_type": "code",
      "metadata": {
        "id": "tF4K1yhOTflS",
        "colab_type": "code",
        "colab": {}
      },
      "source": [
        "model.load_weights('model2.hdf5')\n",
        "score = model.evaluate(X_train, y_train, verbose=1)\n",
        "print('\\n', 'Train accuracy:', score[1])\n",
        "score1 = model.evaluate(X_val, y_val, verbose=1)\n",
        "print('\\n', 'Validation accuracy:', score1[1])"
      ],
      "execution_count": null,
      "outputs": []
    },
    {
      "cell_type": "markdown",
      "metadata": {
        "id": "E2_2qDO2oXks",
        "colab_type": "text"
      },
      "source": [
        "Check The Accuracy"
      ]
    },
    {
      "cell_type": "code",
      "metadata": {
        "id": "RK7eTKZA1jMB",
        "colab_type": "code",
        "colab": {
          "base_uri": "https://localhost:8080/",
          "height": 126
        },
        "outputId": "5596d280-310a-45c5-cff1-c35245072951"
      },
      "source": [
        "model.load_weights('modelb.h5')\n",
        "score = model.evaluate(X_train, y_train, verbose=1)\n",
        "print('\\n', 'Train accuracy:', score[1])\n",
        "score1 = model.evaluate(X_val, y_val, verbose=1)\n",
        "print('\\n', 'Validation accuracy:', score1[1])"
      ],
      "execution_count": null,
      "outputs": [
        {
          "output_type": "stream",
          "text": [
            "236/236 [==============================] - 2s 10ms/step - loss: 0.3588 - accuracy: 0.8731\n",
            "\n",
            " Train accuracy: 0.8730897307395935\n",
            "47/47 [==============================] - 0s 9ms/step - loss: 0.6922 - accuracy: 0.7587\n",
            "\n",
            " Validation accuracy: 0.7587365508079529\n"
          ],
          "name": "stdout"
        }
      ]
    },
    {
      "cell_type": "code",
      "metadata": {
        "id": "m3bactml4wrC",
        "colab_type": "code",
        "colab": {
          "base_uri": "https://localhost:8080/",
          "height": 295
        },
        "outputId": "589ab1cd-475e-44f4-808e-452756779c2d"
      },
      "source": [
        "plt.figure(1)  \n",
        "   \n",
        " # summarize history for accuracy  \n",
        "   \n",
        "plt.subplot(211)  \n",
        "plt.plot(history.history['accuracy'])  \n",
        "plt.plot(history.history['val_accuracy'])  \n",
        "plt.title('model accuracy')  \n",
        "plt.ylabel('accuracy')  \n",
        "plt.xlabel('epoch')  \n",
        "plt.legend(['train', 'validation'], loc='upper left')  \n",
        "   \n",
        " # summarize history for loss  \n",
        "   \n",
        "plt.subplot(212)  \n",
        "plt.plot(history.history['loss'])  \n",
        "plt.plot(history.history['val_loss'])  \n",
        "plt.title('model loss')  \n",
        "plt.ylabel('loss')  \n",
        "plt.xlabel('epoch')  \n",
        "plt.legend(['train', 'validation'], loc='upper left')  \n",
        "plt.show()"
      ],
      "execution_count": null,
      "outputs": [
        {
          "output_type": "display_data",
          "data": {
            "image/png": "[encoded data removed]",
            "text/plain": [
              "<Figure size 432x288 with 2 Axes>"
            ]
          },
          "metadata": {
            "tags": [],
            "needs_background": "light"
          }
        }
      ]
    },
    {
      "cell_type": "code",
      "metadata": {
        "id": "0fDckvb15oRT",
        "colab_type": "code",
        "colab": {}
      },
      "source": [
        "# Save the entire model as a SavedModel.\n",
        "!mkdir -p saved_model\n",
        "model.save('modelb.h5') "
      ],
      "execution_count": null,
      "outputs": []
    },
    {
      "cell_type": "code",
      "metadata": {
        "id": "f7zOsLXN51-v",
        "colab_type": "code",
        "colab": {}
      },
      "source": [
        "model_json = model.to_json()\n",
        "with open(\"modelb.json\", \"w\") as json_file:\n",
        "    json_file.write(model_json)"
      ],
      "execution_count": null,
      "outputs": []
    }
  ]
}